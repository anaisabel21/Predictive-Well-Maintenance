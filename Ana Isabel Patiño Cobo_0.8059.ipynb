{
 "cells": [
  {
   "cell_type": "code",
   "execution_count": 1,
   "id": "2d975665",
   "metadata": {},
   "outputs": [],
   "source": [
    "#IMPORTAMOS TODAS LAS LIBRERÍAS NECESARIAS\n",
    "import pandas as pd\n",
    "import numpy as np\n",
    "\n",
    "import seaborn as sns\n",
    "import matplotlib.pyplot as plt\n",
    "import scipy.stats as stats\n",
    "\n",
    "from sklearn.model_selection import train_test_split\n",
    "\n",
    "from sklearn.tree import DecisionTreeClassifier\n",
    "from sklearn.ensemble import RandomForestClassifier\n",
    "from sklearn.neural_network import MLPClassifier\n",
    "from sklearn.svm import SVC\n",
    "\n",
    "from sklearn.metrics import accuracy_score, auc, confusion_matrix, f1_score, precision_score, recall_score, roc_curve\n",
    "from sklearn.model_selection import GridSearchCV\n",
    "from sklearn.model_selection import RepeatedKFold"
   ]
  },
  {
   "cell_type": "markdown",
   "id": "e1876f0c",
   "metadata": {},
   "source": [
    "**IMPORTAMOS LA DATA**\n",
    "\n",
    "El primer paso será importar la data, unirla y realizar un análisis exploratorio de los datos. Esto nos ayudará a entender mejor la data con la cual estamos trabajando."
   ]
  },
  {
   "cell_type": "code",
   "execution_count": 2,
   "id": "975dda9d",
   "metadata": {},
   "outputs": [],
   "source": [
    "train_labels=pd.read_csv(\"xdata.csv\")\n",
    "train_val=pd.read_csv(\"ydata.csv\")"
   ]
  },
  {
   "cell_type": "code",
   "execution_count": 3,
   "id": "7b030e17",
   "metadata": {},
   "outputs": [],
   "source": [
    "data=pd.merge(train_labels, train_val, on=\"id\")"
   ]
  },
  {
   "cell_type": "code",
   "execution_count": 4,
   "id": "d2778f10",
   "metadata": {},
   "outputs": [
    {
     "data": {
      "text/html": [
       "<div>\n",
       "<style scoped>\n",
       "    .dataframe tbody tr th:only-of-type {\n",
       "        vertical-align: middle;\n",
       "    }\n",
       "\n",
       "    .dataframe tbody tr th {\n",
       "        vertical-align: top;\n",
       "    }\n",
       "\n",
       "    .dataframe thead th {\n",
       "        text-align: right;\n",
       "    }\n",
       "</style>\n",
       "<table border=\"1\" class=\"dataframe\">\n",
       "  <thead>\n",
       "    <tr style=\"text-align: right;\">\n",
       "      <th></th>\n",
       "      <th>id</th>\n",
       "      <th>amount_tsh</th>\n",
       "      <th>date_recorded</th>\n",
       "      <th>funder</th>\n",
       "      <th>gps_height</th>\n",
       "      <th>installer</th>\n",
       "      <th>longitude</th>\n",
       "      <th>latitude</th>\n",
       "      <th>wpt_name</th>\n",
       "      <th>num_private</th>\n",
       "      <th>...</th>\n",
       "      <th>water_quality</th>\n",
       "      <th>quality_group</th>\n",
       "      <th>quantity</th>\n",
       "      <th>quantity_group</th>\n",
       "      <th>source</th>\n",
       "      <th>source_type</th>\n",
       "      <th>source_class</th>\n",
       "      <th>waterpoint_type</th>\n",
       "      <th>waterpoint_type_group</th>\n",
       "      <th>status_group</th>\n",
       "    </tr>\n",
       "  </thead>\n",
       "  <tbody>\n",
       "    <tr>\n",
       "      <th>0</th>\n",
       "      <td>69572</td>\n",
       "      <td>6000.0</td>\n",
       "      <td>2011-03-14</td>\n",
       "      <td>Roman</td>\n",
       "      <td>1390</td>\n",
       "      <td>Roman</td>\n",
       "      <td>34.938093</td>\n",
       "      <td>-9.856322</td>\n",
       "      <td>none</td>\n",
       "      <td>0</td>\n",
       "      <td>...</td>\n",
       "      <td>soft</td>\n",
       "      <td>good</td>\n",
       "      <td>enough</td>\n",
       "      <td>enough</td>\n",
       "      <td>spring</td>\n",
       "      <td>spring</td>\n",
       "      <td>groundwater</td>\n",
       "      <td>communal standpipe</td>\n",
       "      <td>communal standpipe</td>\n",
       "      <td>functional</td>\n",
       "    </tr>\n",
       "    <tr>\n",
       "      <th>1</th>\n",
       "      <td>8776</td>\n",
       "      <td>0.0</td>\n",
       "      <td>2013-03-06</td>\n",
       "      <td>Grumeti</td>\n",
       "      <td>1399</td>\n",
       "      <td>GRUMETI</td>\n",
       "      <td>34.698766</td>\n",
       "      <td>-2.147466</td>\n",
       "      <td>Zahanati</td>\n",
       "      <td>0</td>\n",
       "      <td>...</td>\n",
       "      <td>soft</td>\n",
       "      <td>good</td>\n",
       "      <td>insufficient</td>\n",
       "      <td>insufficient</td>\n",
       "      <td>rainwater harvesting</td>\n",
       "      <td>rainwater harvesting</td>\n",
       "      <td>surface</td>\n",
       "      <td>communal standpipe</td>\n",
       "      <td>communal standpipe</td>\n",
       "      <td>functional</td>\n",
       "    </tr>\n",
       "    <tr>\n",
       "      <th>2</th>\n",
       "      <td>34310</td>\n",
       "      <td>25.0</td>\n",
       "      <td>2013-02-25</td>\n",
       "      <td>Lottery Club</td>\n",
       "      <td>686</td>\n",
       "      <td>World vision</td>\n",
       "      <td>37.460664</td>\n",
       "      <td>-3.821329</td>\n",
       "      <td>Kwa Mahundi</td>\n",
       "      <td>0</td>\n",
       "      <td>...</td>\n",
       "      <td>soft</td>\n",
       "      <td>good</td>\n",
       "      <td>enough</td>\n",
       "      <td>enough</td>\n",
       "      <td>dam</td>\n",
       "      <td>dam</td>\n",
       "      <td>surface</td>\n",
       "      <td>communal standpipe multiple</td>\n",
       "      <td>communal standpipe</td>\n",
       "      <td>functional</td>\n",
       "    </tr>\n",
       "    <tr>\n",
       "      <th>3</th>\n",
       "      <td>67743</td>\n",
       "      <td>0.0</td>\n",
       "      <td>2013-01-28</td>\n",
       "      <td>Unicef</td>\n",
       "      <td>263</td>\n",
       "      <td>UNICEF</td>\n",
       "      <td>38.486161</td>\n",
       "      <td>-11.155298</td>\n",
       "      <td>Zahanati Ya Nanyumbu</td>\n",
       "      <td>0</td>\n",
       "      <td>...</td>\n",
       "      <td>soft</td>\n",
       "      <td>good</td>\n",
       "      <td>dry</td>\n",
       "      <td>dry</td>\n",
       "      <td>machine dbh</td>\n",
       "      <td>borehole</td>\n",
       "      <td>groundwater</td>\n",
       "      <td>communal standpipe multiple</td>\n",
       "      <td>communal standpipe</td>\n",
       "      <td>non functional</td>\n",
       "    </tr>\n",
       "    <tr>\n",
       "      <th>4</th>\n",
       "      <td>19728</td>\n",
       "      <td>0.0</td>\n",
       "      <td>2011-07-13</td>\n",
       "      <td>Action In A</td>\n",
       "      <td>0</td>\n",
       "      <td>Artisan</td>\n",
       "      <td>31.130847</td>\n",
       "      <td>-1.825359</td>\n",
       "      <td>Shuleni</td>\n",
       "      <td>0</td>\n",
       "      <td>...</td>\n",
       "      <td>soft</td>\n",
       "      <td>good</td>\n",
       "      <td>seasonal</td>\n",
       "      <td>seasonal</td>\n",
       "      <td>rainwater harvesting</td>\n",
       "      <td>rainwater harvesting</td>\n",
       "      <td>surface</td>\n",
       "      <td>communal standpipe</td>\n",
       "      <td>communal standpipe</td>\n",
       "      <td>functional</td>\n",
       "    </tr>\n",
       "    <tr>\n",
       "      <th>5</th>\n",
       "      <td>9944</td>\n",
       "      <td>20.0</td>\n",
       "      <td>2011-03-13</td>\n",
       "      <td>Mkinga Distric Coun</td>\n",
       "      <td>0</td>\n",
       "      <td>DWE</td>\n",
       "      <td>39.172796</td>\n",
       "      <td>-4.765587</td>\n",
       "      <td>Tajiri</td>\n",
       "      <td>0</td>\n",
       "      <td>...</td>\n",
       "      <td>salty</td>\n",
       "      <td>salty</td>\n",
       "      <td>enough</td>\n",
       "      <td>enough</td>\n",
       "      <td>other</td>\n",
       "      <td>other</td>\n",
       "      <td>unknown</td>\n",
       "      <td>communal standpipe multiple</td>\n",
       "      <td>communal standpipe</td>\n",
       "      <td>functional</td>\n",
       "    </tr>\n",
       "    <tr>\n",
       "      <th>6</th>\n",
       "      <td>19816</td>\n",
       "      <td>0.0</td>\n",
       "      <td>2012-10-01</td>\n",
       "      <td>Dwsp</td>\n",
       "      <td>0</td>\n",
       "      <td>DWSP</td>\n",
       "      <td>33.362410</td>\n",
       "      <td>-3.766365</td>\n",
       "      <td>Kwa Ngomho</td>\n",
       "      <td>0</td>\n",
       "      <td>...</td>\n",
       "      <td>soft</td>\n",
       "      <td>good</td>\n",
       "      <td>enough</td>\n",
       "      <td>enough</td>\n",
       "      <td>machine dbh</td>\n",
       "      <td>borehole</td>\n",
       "      <td>groundwater</td>\n",
       "      <td>hand pump</td>\n",
       "      <td>hand pump</td>\n",
       "      <td>non functional</td>\n",
       "    </tr>\n",
       "  </tbody>\n",
       "</table>\n",
       "<p>7 rows × 41 columns</p>\n",
       "</div>"
      ],
      "text/plain": [
       "      id  amount_tsh date_recorded               funder  gps_height  \\\n",
       "0  69572      6000.0    2011-03-14                Roman        1390   \n",
       "1   8776         0.0    2013-03-06              Grumeti        1399   \n",
       "2  34310        25.0    2013-02-25         Lottery Club         686   \n",
       "3  67743         0.0    2013-01-28               Unicef         263   \n",
       "4  19728         0.0    2011-07-13          Action In A           0   \n",
       "5   9944        20.0    2011-03-13  Mkinga Distric Coun           0   \n",
       "6  19816         0.0    2012-10-01                 Dwsp           0   \n",
       "\n",
       "      installer  longitude   latitude              wpt_name  num_private  ...  \\\n",
       "0         Roman  34.938093  -9.856322                  none            0  ...   \n",
       "1       GRUMETI  34.698766  -2.147466              Zahanati            0  ...   \n",
       "2  World vision  37.460664  -3.821329           Kwa Mahundi            0  ...   \n",
       "3        UNICEF  38.486161 -11.155298  Zahanati Ya Nanyumbu            0  ...   \n",
       "4       Artisan  31.130847  -1.825359               Shuleni            0  ...   \n",
       "5           DWE  39.172796  -4.765587                Tajiri            0  ...   \n",
       "6          DWSP  33.362410  -3.766365            Kwa Ngomho            0  ...   \n",
       "\n",
       "  water_quality quality_group      quantity  quantity_group  \\\n",
       "0          soft          good        enough          enough   \n",
       "1          soft          good  insufficient    insufficient   \n",
       "2          soft          good        enough          enough   \n",
       "3          soft          good           dry             dry   \n",
       "4          soft          good      seasonal        seasonal   \n",
       "5         salty         salty        enough          enough   \n",
       "6          soft          good        enough          enough   \n",
       "\n",
       "                 source           source_type source_class  \\\n",
       "0                spring                spring  groundwater   \n",
       "1  rainwater harvesting  rainwater harvesting      surface   \n",
       "2                   dam                   dam      surface   \n",
       "3           machine dbh              borehole  groundwater   \n",
       "4  rainwater harvesting  rainwater harvesting      surface   \n",
       "5                 other                 other      unknown   \n",
       "6           machine dbh              borehole  groundwater   \n",
       "\n",
       "               waterpoint_type waterpoint_type_group    status_group  \n",
       "0           communal standpipe    communal standpipe      functional  \n",
       "1           communal standpipe    communal standpipe      functional  \n",
       "2  communal standpipe multiple    communal standpipe      functional  \n",
       "3  communal standpipe multiple    communal standpipe  non functional  \n",
       "4           communal standpipe    communal standpipe      functional  \n",
       "5  communal standpipe multiple    communal standpipe      functional  \n",
       "6                    hand pump             hand pump  non functional  \n",
       "\n",
       "[7 rows x 41 columns]"
      ]
     },
     "execution_count": 4,
     "metadata": {},
     "output_type": "execute_result"
    }
   ],
   "source": [
    "data.head(7)"
   ]
  },
  {
   "cell_type": "code",
   "execution_count": 5,
   "id": "2e41e1ef",
   "metadata": {},
   "outputs": [
    {
     "name": "stdout",
     "output_type": "stream",
     "text": [
      "<class 'pandas.core.frame.DataFrame'>\n",
      "RangeIndex: 59400 entries, 0 to 59399\n",
      "Data columns (total 41 columns):\n",
      " #   Column                 Non-Null Count  Dtype  \n",
      "---  ------                 --------------  -----  \n",
      " 0   id                     59400 non-null  int64  \n",
      " 1   amount_tsh             59400 non-null  float64\n",
      " 2   date_recorded          59400 non-null  object \n",
      " 3   funder                 55763 non-null  object \n",
      " 4   gps_height             59400 non-null  int64  \n",
      " 5   installer              55745 non-null  object \n",
      " 6   longitude              59400 non-null  float64\n",
      " 7   latitude               59400 non-null  float64\n",
      " 8   wpt_name               59398 non-null  object \n",
      " 9   num_private            59400 non-null  int64  \n",
      " 10  basin                  59400 non-null  object \n",
      " 11  subvillage             59029 non-null  object \n",
      " 12  region                 59400 non-null  object \n",
      " 13  region_code            59400 non-null  int64  \n",
      " 14  district_code          59400 non-null  int64  \n",
      " 15  lga                    59400 non-null  object \n",
      " 16  ward                   59400 non-null  object \n",
      " 17  population             59400 non-null  int64  \n",
      " 18  public_meeting         56066 non-null  object \n",
      " 19  recorded_by            59400 non-null  object \n",
      " 20  scheme_management      55522 non-null  object \n",
      " 21  scheme_name            30590 non-null  object \n",
      " 22  permit                 56344 non-null  object \n",
      " 23  construction_year      59400 non-null  int64  \n",
      " 24  extraction_type        59400 non-null  object \n",
      " 25  extraction_type_group  59400 non-null  object \n",
      " 26  extraction_type_class  59400 non-null  object \n",
      " 27  management             59400 non-null  object \n",
      " 28  management_group       59400 non-null  object \n",
      " 29  payment                59400 non-null  object \n",
      " 30  payment_type           59400 non-null  object \n",
      " 31  water_quality          59400 non-null  object \n",
      " 32  quality_group          59400 non-null  object \n",
      " 33  quantity               59400 non-null  object \n",
      " 34  quantity_group         59400 non-null  object \n",
      " 35  source                 59400 non-null  object \n",
      " 36  source_type            59400 non-null  object \n",
      " 37  source_class           59400 non-null  object \n",
      " 38  waterpoint_type        59400 non-null  object \n",
      " 39  waterpoint_type_group  59400 non-null  object \n",
      " 40  status_group           59400 non-null  object \n",
      "dtypes: float64(3), int64(7), object(31)\n",
      "memory usage: 18.6+ MB\n"
     ]
    }
   ],
   "source": [
    "data.info()"
   ]
  },
  {
   "cell_type": "code",
   "execution_count": 6,
   "id": "3da3f2a7",
   "metadata": {},
   "outputs": [
    {
     "data": {
      "text/plain": [
       "id                        0.000000\n",
       "amount_tsh                0.000000\n",
       "date_recorded             0.000000\n",
       "funder                    6.522246\n",
       "gps_height                0.000000\n",
       "installer                 6.556642\n",
       "longitude                 0.000000\n",
       "latitude                  0.000000\n",
       "wpt_name                  0.003367\n",
       "num_private               0.000000\n",
       "basin                     0.000000\n",
       "subvillage                0.628505\n",
       "region                    0.000000\n",
       "region_code               0.000000\n",
       "district_code             0.000000\n",
       "lga                       0.000000\n",
       "ward                      0.000000\n",
       "population                0.000000\n",
       "public_meeting            5.946563\n",
       "recorded_by               0.000000\n",
       "scheme_management         6.984619\n",
       "scheme_name              94.181105\n",
       "permit                    5.423825\n",
       "construction_year         0.000000\n",
       "extraction_type           0.000000\n",
       "extraction_type_group     0.000000\n",
       "extraction_type_class     0.000000\n",
       "management                0.000000\n",
       "management_group          0.000000\n",
       "payment                   0.000000\n",
       "payment_type              0.000000\n",
       "water_quality             0.000000\n",
       "quality_group             0.000000\n",
       "quantity                  0.000000\n",
       "quantity_group            0.000000\n",
       "source                    0.000000\n",
       "source_type               0.000000\n",
       "source_class              0.000000\n",
       "waterpoint_type           0.000000\n",
       "waterpoint_type_group     0.000000\n",
       "status_group              0.000000\n",
       "dtype: float64"
      ]
     },
     "execution_count": 6,
     "metadata": {},
     "output_type": "execute_result"
    }
   ],
   "source": [
    "(data.isnull().sum()/data.count())*100"
   ]
  },
  {
   "cell_type": "markdown",
   "id": "67a5e462",
   "metadata": {},
   "source": [
    "Comprobamos el porcentaje de nulos que existen. Como podemos ver existe un porcentaje muy alto de nulos en scheme_name.\n",
    "No tendría sentido imputar tantos, por lo que lo más razonable sería borrarlo. El resto de variables por su cantidad baja de nulos, podrían imputarse más adelante."
   ]
  },
  {
   "cell_type": "code",
   "execution_count": 7,
   "id": "e8ec17fb",
   "metadata": {},
   "outputs": [
    {
     "data": {
      "text/plain": [
       "date_recorded              356\n",
       "funder                    1897\n",
       "installer                 2146\n",
       "wpt_name                 37400\n",
       "basin                        9\n",
       "subvillage               19288\n",
       "region                      21\n",
       "lga                        125\n",
       "ward                      2092\n",
       "public_meeting               3\n",
       "recorded_by                  1\n",
       "scheme_management           12\n",
       "scheme_name               2696\n",
       "permit                       3\n",
       "extraction_type             18\n",
       "extraction_type_group       13\n",
       "extraction_type_class        7\n",
       "management                  12\n",
       "management_group             5\n",
       "payment                      7\n",
       "payment_type                 7\n",
       "water_quality                8\n",
       "quality_group                6\n",
       "quantity                     5\n",
       "quantity_group               5\n",
       "source                      10\n",
       "source_type                  7\n",
       "source_class                 3\n",
       "waterpoint_type              7\n",
       "waterpoint_type_group        6\n",
       "status_group                 3\n",
       "dtype: int64"
      ]
     },
     "execution_count": 7,
     "metadata": {},
     "output_type": "execute_result"
    }
   ],
   "source": [
    "data_cat=data.select_dtypes(exclude=np.number)\n",
    "data_cat.apply(lambda x: len(x.unique()))"
   ]
  },
  {
   "cell_type": "markdown",
   "id": "510c9535",
   "metadata": {},
   "source": [
    "Algunas variables disponen de demasiadas categorías, por lo que obtendremos demasiadas dummies. \n",
    "Se puede plantear la idea de unir categorías\n",
    "\n",
    "Vamos a hacer un análisis gráfico:"
   ]
  },
  {
   "cell_type": "code",
   "execution_count": 8,
   "id": "17fd57e1",
   "metadata": {},
   "outputs": [
    {
     "data": {
      "image/png": "[encoded data removed]",
      "text/plain": [
       "<Figure size 640x480 with 1 Axes>"
      ]
     },
     "metadata": {},
     "output_type": "display_data"
    }
   ],
   "source": [
    "ax, fig = plt.subplots()\n",
    "etiquetas = data.status_group.value_counts()\n",
    "etiquetas.plot(kind= 'bar', color= [\"blue\", \"orange\", \"green\"])\n",
    "plt.xticks(range(len(etiquetas)), etiquetas.index)\n",
    "plt.title('Bar chart')\n",
    "plt.show()"
   ]
  },
  {
   "cell_type": "markdown",
   "id": "2887c1d0",
   "metadata": {},
   "source": [
    "Como podemos comprobar existe un gran número de etiquetas funcionales, mientras que existen muy pocas de functional needs repair. Proablemente nuestro modelo sea muy bueno prediciendo las funcionales y muy malo con el último por falta de información."
   ]
  },
  {
   "cell_type": "markdown",
   "id": "1b27920a",
   "metadata": {},
   "source": [
    "**LIMPIEZA DE LOS DATOS**\n",
    "\n",
    "Borramos variables innecesarias desde el principio: \n",
    "1. Vamos a borrar variables como id pues no aporta explicación al modelo\n",
    "2. scheme_name por tener muchos null"
   ]
  },
  {
   "cell_type": "code",
   "execution_count": 9,
   "id": "3f2b617c",
   "metadata": {},
   "outputs": [],
   "source": [
    "data=data.drop([\"id\", \"scheme_name\"], axis=1)"
   ]
  },
  {
   "cell_type": "markdown",
   "id": "e13ad7d7",
   "metadata": {},
   "source": [
    "ANÁLISIS CATEGÓRICAS:\n",
    "\n",
    "Vamos a estudiar como reducir las variables categóricas. La idea es seleccionar aquellas que tengan mayor porcentaje explicativo. Asímismo, muchas de ellas tienen muchas categorias por lo que cuando queramos trabajar con dummies van a salir una gran cantidad. Por ese motivo no se ha obtado por su representación gráfica, pues tomaría muchos recursos computacionales. Crearemos funciones que nos ayuden a reducirlas. También existen variables categóricas con categorias desconocidas, por lo que imputarlas será buena idea."
   ]
  },
  {
   "cell_type": "code",
   "execution_count": 10,
   "id": "996b5bd0",
   "metadata": {},
   "outputs": [
    {
     "data": {
      "text/plain": [
       "funder\n",
       "Government Of Tanzania    0.162904\n",
       "Danida                    0.055843\n",
       "Hesawa                    0.039489\n",
       "Rwssp                     0.024640\n",
       "World Bank                0.024192\n",
       "                            ...   \n",
       "Muwasa                    0.000018\n",
       "Msigw                     0.000018\n",
       "Rc Mofu                   0.000018\n",
       "Overland High School      0.000018\n",
       "Samlo                     0.000018\n",
       "Name: proportion, Length: 1896, dtype: float64"
      ]
     },
     "execution_count": 10,
     "metadata": {},
     "output_type": "execute_result"
    }
   ],
   "source": [
    "data.funder.value_counts(1)"
   ]
  },
  {
   "cell_type": "code",
   "execution_count": 11,
   "id": "825299b7",
   "metadata": {},
   "outputs": [],
   "source": [
    "#función para reducir categorias de funder\n",
    "def reduc_funder(x):\n",
    "    if x==\"Government Of Tanzania\":\n",
    "        return \"GOT\"\n",
    "    if x==\"Danida\":\n",
    "        return \"DANIDA\"\n",
    "    if x==\"Hesawa\":\n",
    "        return \"HESAWA\"\n",
    "    if x==\"Rwssp\":\n",
    "        return \"RWSSP\"\n",
    "    if x==\"World Bank\":\n",
    "        return \"WB\"\n",
    "    else:\n",
    "        return \"OTHERS\""
   ]
  },
  {
   "cell_type": "code",
   "execution_count": 12,
   "id": "ae3d1f85",
   "metadata": {},
   "outputs": [],
   "source": [
    "#imputamos funder y aplicamos la función\n",
    "moda = data[\"funder\"].mode()[0]\n",
    "data[\"funder\"] = data[\"funder\"].fillna(moda)\n",
    "data[\"funder\"] = data[\"funder\"].apply(lambda x: reduc_funder(x))"
   ]
  },
  {
   "cell_type": "code",
   "execution_count": 13,
   "id": "deac6e79",
   "metadata": {},
   "outputs": [
    {
     "data": {
      "text/plain": [
       "installer\n",
       "DWE                17402\n",
       "Government          1825\n",
       "RWE                 1206\n",
       "Commu               1060\n",
       "DANIDA              1050\n",
       "                   ...  \n",
       "Wizara  ya maji        1\n",
       "TWESS                  1\n",
       "Nasan workers          1\n",
       "R                      1\n",
       "SELEPTA                1\n",
       "Name: count, Length: 2145, dtype: int64"
      ]
     },
     "execution_count": 13,
     "metadata": {},
     "output_type": "execute_result"
    }
   ],
   "source": [
    "data.installer.value_counts()"
   ]
  },
  {
   "cell_type": "code",
   "execution_count": 14,
   "id": "c1a38673",
   "metadata": {},
   "outputs": [],
   "source": [
    "#función para reducir installer\n",
    "def reduc_installer(x):\n",
    "    if x==\"DWE\":\n",
    "        return \"DWE\"\n",
    "    if x==\"Goverment\":\n",
    "        return \"GOVERMENT\"\n",
    "    if x==\"RWE\":\n",
    "        return \"RWE\"\n",
    "    if x==\"Commu\":\n",
    "        return \"COMMU\"\n",
    "    if x==\"DANIDA\":\n",
    "        return \"DANIDA\"\n",
    "    else:\n",
    "        return \"OTHERS\""
   ]
  },
  {
   "cell_type": "code",
   "execution_count": 15,
   "id": "c13810d1",
   "metadata": {},
   "outputs": [],
   "source": [
    "moda = data[\"installer\"].mode()[0]\n",
    "data[\"installer\"] = data[\"installer\"].fillna(moda)\n",
    "data[\"installer\"] = data[\"installer\"].apply(lambda x: reduc_installer(x))"
   ]
  },
  {
   "cell_type": "markdown",
   "id": "4a5a3627",
   "metadata": {},
   "source": [
    "A continuación vamos a imputar todas aquellas variables que tenían nulos:"
   ]
  },
  {
   "cell_type": "code",
   "execution_count": 16,
   "id": "4b42fad6",
   "metadata": {},
   "outputs": [],
   "source": [
    "moda = data[\"permit\"].mode()[0]\n",
    "data[\"permit\"] = data[\"permit\"].fillna(moda)"
   ]
  },
  {
   "cell_type": "code",
   "execution_count": 17,
   "id": "690c4611",
   "metadata": {},
   "outputs": [],
   "source": [
    "moda = data[\"scheme_management\"].mode()[0]\n",
    "data[\"scheme_management\"] = data[\"scheme_management\"].fillna(moda)"
   ]
  },
  {
   "cell_type": "code",
   "execution_count": 18,
   "id": "c6e93456",
   "metadata": {},
   "outputs": [],
   "source": [
    "moda = data[\"public_meeting\"].mode()[0]\n",
    "data[\"public_meeting\"] = data[\"public_meeting\"].fillna(moda)"
   ]
  },
  {
   "cell_type": "markdown",
   "id": "d1c39a7f",
   "metadata": {},
   "source": [
    "Además existen vairables que aunque no aparezcan reflejadas como tal la presencia de nulos, presentan una categoría llamada unknwon. Ello nos da a entender que existen nulos, por tanto los imputaremos."
   ]
  },
  {
   "cell_type": "code",
   "execution_count": 19,
   "id": "cbb5defd",
   "metadata": {},
   "outputs": [
    {
     "data": {
      "text/plain": [
       "quantity\n",
       "enough          33186\n",
       "insufficient    15129\n",
       "dry              6246\n",
       "seasonal         4050\n",
       "unknown           789\n",
       "Name: count, dtype: int64"
      ]
     },
     "execution_count": 19,
     "metadata": {},
     "output_type": "execute_result"
    }
   ],
   "source": [
    "data.quantity.value_counts()"
   ]
  },
  {
   "cell_type": "code",
   "execution_count": 20,
   "id": "61c6d9bb",
   "metadata": {},
   "outputs": [],
   "source": [
    "moda = data[data[\"quantity\"] != \"unknown\"][\"quantity\"].mode()[0]\n",
    "# Rellenar los valores faltantes con la moda\n",
    "data[\"quantity\"] = data[\"quantity\"].fillna(moda)"
   ]
  },
  {
   "cell_type": "code",
   "execution_count": 21,
   "id": "1d710614",
   "metadata": {},
   "outputs": [
    {
     "data": {
      "text/plain": [
       "source\n",
       "spring                  17021\n",
       "shallow well            16824\n",
       "machine dbh             11075\n",
       "river                    9612\n",
       "rainwater harvesting     2295\n",
       "hand dtw                  874\n",
       "lake                      765\n",
       "dam                       656\n",
       "other                     212\n",
       "unknown                    66\n",
       "Name: count, dtype: int64"
      ]
     },
     "execution_count": 21,
     "metadata": {},
     "output_type": "execute_result"
    }
   ],
   "source": [
    "data.source.value_counts()"
   ]
  },
  {
   "cell_type": "code",
   "execution_count": 22,
   "id": "8dffb6e1",
   "metadata": {},
   "outputs": [],
   "source": [
    "moda = data[data[\"source\"] != \"unknown\"][\"source\"].mode()[0]\n",
    "\n",
    "# Rellenar los valores faltantes con la moda\n",
    "data[\"source\"] = data[\"source\"].fillna(moda)"
   ]
  },
  {
   "cell_type": "markdown",
   "id": "262a8b8a",
   "metadata": {},
   "source": [
    "También las variables de la región paracen muy correlacionadas entre si, por ello sería interesante quedarnos con aquellas que tengan menos categorías, osea *region*. Esta nos seguirá aportando información útil sobre la ubicación."
   ]
  },
  {
   "cell_type": "code",
   "execution_count": 23,
   "id": "488a1a42",
   "metadata": {},
   "outputs": [
    {
     "data": {
      "text/html": [
       "<div>\n",
       "<style scoped>\n",
       "    .dataframe tbody tr th:only-of-type {\n",
       "        vertical-align: middle;\n",
       "    }\n",
       "\n",
       "    .dataframe tbody tr th {\n",
       "        vertical-align: top;\n",
       "    }\n",
       "\n",
       "    .dataframe thead th {\n",
       "        text-align: right;\n",
       "    }\n",
       "</style>\n",
       "<table border=\"1\" class=\"dataframe\">\n",
       "  <thead>\n",
       "    <tr style=\"text-align: right;\">\n",
       "      <th>region_code</th>\n",
       "      <th>1</th>\n",
       "      <th>2</th>\n",
       "      <th>3</th>\n",
       "      <th>4</th>\n",
       "      <th>5</th>\n",
       "      <th>6</th>\n",
       "      <th>7</th>\n",
       "      <th>8</th>\n",
       "      <th>9</th>\n",
       "      <th>10</th>\n",
       "      <th>...</th>\n",
       "      <th>18</th>\n",
       "      <th>19</th>\n",
       "      <th>20</th>\n",
       "      <th>21</th>\n",
       "      <th>24</th>\n",
       "      <th>40</th>\n",
       "      <th>60</th>\n",
       "      <th>80</th>\n",
       "      <th>90</th>\n",
       "      <th>99</th>\n",
       "    </tr>\n",
       "    <tr>\n",
       "      <th>region</th>\n",
       "      <th></th>\n",
       "      <th></th>\n",
       "      <th></th>\n",
       "      <th></th>\n",
       "      <th></th>\n",
       "      <th></th>\n",
       "      <th></th>\n",
       "      <th></th>\n",
       "      <th></th>\n",
       "      <th></th>\n",
       "      <th></th>\n",
       "      <th></th>\n",
       "      <th></th>\n",
       "      <th></th>\n",
       "      <th></th>\n",
       "      <th></th>\n",
       "      <th></th>\n",
       "      <th></th>\n",
       "      <th></th>\n",
       "      <th></th>\n",
       "      <th></th>\n",
       "    </tr>\n",
       "  </thead>\n",
       "  <tbody>\n",
       "    <tr>\n",
       "      <th>Arusha</th>\n",
       "      <td>0</td>\n",
       "      <td>3024</td>\n",
       "      <td>0</td>\n",
       "      <td>0</td>\n",
       "      <td>0</td>\n",
       "      <td>0</td>\n",
       "      <td>0</td>\n",
       "      <td>0</td>\n",
       "      <td>0</td>\n",
       "      <td>0</td>\n",
       "      <td>...</td>\n",
       "      <td>0</td>\n",
       "      <td>0</td>\n",
       "      <td>0</td>\n",
       "      <td>0</td>\n",
       "      <td>326</td>\n",
       "      <td>0</td>\n",
       "      <td>0</td>\n",
       "      <td>0</td>\n",
       "      <td>0</td>\n",
       "      <td>0</td>\n",
       "    </tr>\n",
       "    <tr>\n",
       "      <th>Dar es Salaam</th>\n",
       "      <td>0</td>\n",
       "      <td>0</td>\n",
       "      <td>0</td>\n",
       "      <td>0</td>\n",
       "      <td>0</td>\n",
       "      <td>0</td>\n",
       "      <td>805</td>\n",
       "      <td>0</td>\n",
       "      <td>0</td>\n",
       "      <td>0</td>\n",
       "      <td>...</td>\n",
       "      <td>0</td>\n",
       "      <td>0</td>\n",
       "      <td>0</td>\n",
       "      <td>0</td>\n",
       "      <td>0</td>\n",
       "      <td>0</td>\n",
       "      <td>0</td>\n",
       "      <td>0</td>\n",
       "      <td>0</td>\n",
       "      <td>0</td>\n",
       "    </tr>\n",
       "    <tr>\n",
       "      <th>Dodoma</th>\n",
       "      <td>2201</td>\n",
       "      <td>0</td>\n",
       "      <td>0</td>\n",
       "      <td>0</td>\n",
       "      <td>0</td>\n",
       "      <td>0</td>\n",
       "      <td>0</td>\n",
       "      <td>0</td>\n",
       "      <td>0</td>\n",
       "      <td>0</td>\n",
       "      <td>...</td>\n",
       "      <td>0</td>\n",
       "      <td>0</td>\n",
       "      <td>0</td>\n",
       "      <td>0</td>\n",
       "      <td>0</td>\n",
       "      <td>0</td>\n",
       "      <td>0</td>\n",
       "      <td>0</td>\n",
       "      <td>0</td>\n",
       "      <td>0</td>\n",
       "    </tr>\n",
       "    <tr>\n",
       "      <th>Iringa</th>\n",
       "      <td>0</td>\n",
       "      <td>0</td>\n",
       "      <td>0</td>\n",
       "      <td>0</td>\n",
       "      <td>0</td>\n",
       "      <td>0</td>\n",
       "      <td>0</td>\n",
       "      <td>0</td>\n",
       "      <td>0</td>\n",
       "      <td>0</td>\n",
       "      <td>...</td>\n",
       "      <td>0</td>\n",
       "      <td>0</td>\n",
       "      <td>0</td>\n",
       "      <td>0</td>\n",
       "      <td>0</td>\n",
       "      <td>0</td>\n",
       "      <td>0</td>\n",
       "      <td>0</td>\n",
       "      <td>0</td>\n",
       "      <td>0</td>\n",
       "    </tr>\n",
       "    <tr>\n",
       "      <th>Kagera</th>\n",
       "      <td>0</td>\n",
       "      <td>0</td>\n",
       "      <td>0</td>\n",
       "      <td>0</td>\n",
       "      <td>0</td>\n",
       "      <td>0</td>\n",
       "      <td>0</td>\n",
       "      <td>0</td>\n",
       "      <td>0</td>\n",
       "      <td>0</td>\n",
       "      <td>...</td>\n",
       "      <td>3316</td>\n",
       "      <td>0</td>\n",
       "      <td>0</td>\n",
       "      <td>0</td>\n",
       "      <td>0</td>\n",
       "      <td>0</td>\n",
       "      <td>0</td>\n",
       "      <td>0</td>\n",
       "      <td>0</td>\n",
       "      <td>0</td>\n",
       "    </tr>\n",
       "  </tbody>\n",
       "</table>\n",
       "<p>5 rows × 27 columns</p>\n",
       "</div>"
      ],
      "text/plain": [
       "region_code      1     2   3   4   5   6    7   8   9   10  ...    18  19  20  \\\n",
       "region                                                      ...                 \n",
       "Arusha            0  3024   0   0   0   0    0   0   0   0  ...     0   0   0   \n",
       "Dar es Salaam     0     0   0   0   0   0  805   0   0   0  ...     0   0   0   \n",
       "Dodoma         2201     0   0   0   0   0    0   0   0   0  ...     0   0   0   \n",
       "Iringa            0     0   0   0   0   0    0   0   0   0  ...     0   0   0   \n",
       "Kagera            0     0   0   0   0   0    0   0   0   0  ...  3316   0   0   \n",
       "\n",
       "region_code    21   24  40  60  80  90  99  \n",
       "region                                      \n",
       "Arusha          0  326   0   0   0   0   0  \n",
       "Dar es Salaam   0    0   0   0   0   0   0  \n",
       "Dodoma          0    0   0   0   0   0   0  \n",
       "Iringa          0    0   0   0   0   0   0  \n",
       "Kagera          0    0   0   0   0   0   0  \n",
       "\n",
       "[5 rows x 27 columns]"
      ]
     },
     "execution_count": 23,
     "metadata": {},
     "output_type": "execute_result"
    }
   ],
   "source": [
    "#RELACIÓN ENTRE REGION, REGION_CODE \n",
    "contingency_table = pd.crosstab(data['region'], data['region_code'])\n",
    "contingency_table.head(5)"
   ]
  },
  {
   "cell_type": "code",
   "execution_count": 24,
   "id": "eb91bc09",
   "metadata": {},
   "outputs": [
    {
     "data": {
      "text/plain": [
       "lga\n",
       "Njombe          2503\n",
       "Arusha Rural    1252\n",
       "Moshi Rural     1251\n",
       "Bariadi         1177\n",
       "Rungwe          1106\n",
       "                ... \n",
       "Moshi Urban       79\n",
       "Kigoma Urban      71\n",
       "Arusha Urban      63\n",
       "Lindi Urban       21\n",
       "Nyamagana          1\n",
       "Name: count, Length: 125, dtype: int64"
      ]
     },
     "execution_count": 24,
     "metadata": {},
     "output_type": "execute_result"
    }
   ],
   "source": [
    "data.lga.value_counts()\n",
    "#se borrará pues con region_code será bastante"
   ]
  },
  {
   "cell_type": "code",
   "execution_count": 25,
   "id": "e3382d06",
   "metadata": {},
   "outputs": [
    {
     "data": {
      "text/plain": [
       "ward\n",
       "Igosi              307\n",
       "Imalinyi           252\n",
       "Siha Kati          232\n",
       "Mdandu             231\n",
       "Nduruma            217\n",
       "                  ... \n",
       "Uchindile            1\n",
       "Thawi                1\n",
       "Uwanja wa Ndege      1\n",
       "Izia                 1\n",
       "Kinungu              1\n",
       "Name: count, Length: 2092, dtype: int64"
      ]
     },
     "execution_count": 25,
     "metadata": {},
     "output_type": "execute_result"
    }
   ],
   "source": [
    "data.ward.value_counts()"
   ]
  },
  {
   "cell_type": "markdown",
   "id": "81440ef7",
   "metadata": {},
   "source": [
    "Tras este análisis se ha determinado se ha obtado por eliminar las siguientes variables, ya que con las restantes variables categóricas se puede obetener un gran resultado explicativo."
   ]
  },
  {
   "cell_type": "code",
   "execution_count": 26,
   "id": "5cf50fe6",
   "metadata": {},
   "outputs": [],
   "source": [
    "data=data.drop([\"quantity_group\",\"payment_type\", \"management\", \"source_type\", \"waterpoint_type\",\n",
    "                \"extraction_type\", \"extraction_type_group\",\n",
    "                \"ward\",\"lga\",\"subvillage\",\"region\", \"wpt_name\", \"district_code\"], axis=1)"
   ]
  },
  {
   "cell_type": "markdown",
   "id": "c6a1b618",
   "metadata": {},
   "source": [
    "NUMÉRICAS:\n",
    "\n",
    "En cuanto a este tipo, vamos a estudiar la correlación presente entre entre la variable objetivo y el resto de variables. Además de comprender cuales presentan correlación entre sí.\n",
    "También se optará por imputar aquellas variables que  presenten nulos a través de la moda o mediana. La elección de estas opciones ha sido gracias a la prueba y error, quedándonos con aquellas que nos daban mejor resultado en el modelo.\n",
    "Igualmente, en este apartado se han borrado aquellas variables que no nos aportan información al modelo.\n",
    "\n",
    "Igualmente se ha hecho una transformación de la variable y a numérica a través de la siguiente función:"
   ]
  },
  {
   "cell_type": "code",
   "execution_count": 27,
   "id": "24fb2330",
   "metadata": {},
   "outputs": [],
   "source": [
    "def y_transform(x):\n",
    "    if x==\"non functional\":\n",
    "        return 0\n",
    "    if x==\"functional\":\n",
    "        return 1\n",
    "    else:\n",
    "        return 2\n",
    "data[\"status_group\"] = data[\"status_group\"].apply(lambda x: y_transform(x))"
   ]
  },
  {
   "cell_type": "code",
   "execution_count": 28,
   "id": "e5266f4e",
   "metadata": {},
   "outputs": [
    {
     "data": {
      "text/plain": [
       "<Axes: >"
      ]
     },
     "execution_count": 28,
     "metadata": {},
     "output_type": "execute_result"
    },
    {
     "data": {
      "image/png": "[encoded data removed]",
      "text/plain": [
       "<Figure size 640x480 with 2 Axes>"
      ]
     },
     "metadata": {},
     "output_type": "display_data"
    }
   ],
   "source": [
    "#SE OBSERVAN LAS VARIABLES NÚMERICAS A TRAVÉS DE LA MATRIZ DE CORRELACIÓN\n",
    "data_numerica = data.select_dtypes(include=np.number)\n",
    "corr = abs(data_numerica.corr())\n",
    "sns.heatmap(corr, annot=True)"
   ]
  },
  {
   "cell_type": "code",
   "execution_count": 29,
   "id": "91ead0bf",
   "metadata": {},
   "outputs": [
    {
     "data": {
      "text/plain": [
       "num_private\n",
       "0       58643\n",
       "6          81\n",
       "1          73\n",
       "5          46\n",
       "8          46\n",
       "        ...  \n",
       "42          1\n",
       "23          1\n",
       "136         1\n",
       "698         1\n",
       "1402        1\n",
       "Name: count, Length: 65, dtype: int64"
      ]
     },
     "execution_count": 29,
     "metadata": {},
     "output_type": "execute_result"
    }
   ],
   "source": [
    "data[\"num_private\"].value_counts()\n",
    "#Vamos a borrarlo porque está lleno de ceros"
   ]
  },
  {
   "cell_type": "code",
   "execution_count": 30,
   "id": "f7c952c0",
   "metadata": {},
   "outputs": [
    {
     "data": {
      "text/plain": [
       "construction_year\n",
       "0       20709\n",
       "2010     2645\n",
       "2008     2613\n",
       "2009     2533\n",
       "2000     2091\n",
       "2007     1587\n",
       "2006     1471\n",
       "2003     1286\n",
       "2011     1256\n",
       "2004     1123\n",
       "2012     1084\n",
       "2002     1075\n",
       "1978     1037\n",
       "1995     1014\n",
       "2005     1011\n",
       "1999      979\n",
       "1998      966\n",
       "1990      954\n",
       "1985      945\n",
       "1980      811\n",
       "1996      811\n",
       "1984      779\n",
       "1982      744\n",
       "1994      738\n",
       "1972      708\n",
       "1974      676\n",
       "1997      644\n",
       "1992      640\n",
       "1993      608\n",
       "2001      540\n",
       "1988      521\n",
       "1983      488\n",
       "1975      437\n",
       "1986      434\n",
       "1976      414\n",
       "1970      411\n",
       "1991      324\n",
       "1989      316\n",
       "1987      302\n",
       "1981      238\n",
       "1977      202\n",
       "1979      192\n",
       "1973      184\n",
       "2013      176\n",
       "1971      145\n",
       "1960      102\n",
       "1967       88\n",
       "1963       85\n",
       "1968       77\n",
       "1969       59\n",
       "1964       40\n",
       "1962       30\n",
       "1961       21\n",
       "1965       19\n",
       "1966       17\n",
       "Name: count, dtype: int64"
      ]
     },
     "execution_count": 30,
     "metadata": {},
     "output_type": "execute_result"
    }
   ],
   "source": [
    "data.construction_year.value_counts()"
   ]
  },
  {
   "cell_type": "code",
   "execution_count": 31,
   "id": "b58b59b7",
   "metadata": {},
   "outputs": [
    {
     "data": {
      "text/plain": [
       "population\n",
       "0       21381\n",
       "1        7025\n",
       "200      1940\n",
       "150      1892\n",
       "250      1681\n",
       "        ...  \n",
       "6330        1\n",
       "5030        1\n",
       "656         1\n",
       "948         1\n",
       "788         1\n",
       "Name: count, Length: 1049, dtype: int64"
      ]
     },
     "execution_count": 31,
     "metadata": {},
     "output_type": "execute_result"
    }
   ],
   "source": [
    "data.population.value_counts()"
   ]
  },
  {
   "cell_type": "markdown",
   "id": "bad05bdb",
   "metadata": {},
   "source": [
    "A continuación realizaremos las transformaciones necesarias para imputar los valores faltantes:"
   ]
  },
  {
   "cell_type": "code",
   "execution_count": 32,
   "id": "ca90bf51",
   "metadata": {},
   "outputs": [],
   "source": [
    "mean_construction_year = data['construction_year'].mean()\n",
    "data['construction_year'] = data['construction_year'].replace(0, mean_construction_year)"
   ]
  },
  {
   "cell_type": "code",
   "execution_count": 33,
   "id": "861d026e",
   "metadata": {},
   "outputs": [],
   "source": [
    "mean_latitude_year = data['latitude'].mean()\n",
    "data['latitude'] = data['latitude'].replace(0, mean_latitude_year)"
   ]
  },
  {
   "cell_type": "code",
   "execution_count": 34,
   "id": "dabfeb1f",
   "metadata": {},
   "outputs": [],
   "source": [
    "mean_longitude_year = data['longitude'].mean()\n",
    "data['longitude'] = data['longitude'].replace(0, mean_longitude_year)"
   ]
  },
  {
   "cell_type": "code",
   "execution_count": 35,
   "id": "13e8e82c",
   "metadata": {},
   "outputs": [],
   "source": [
    "mean_population_year = data['population'].mean()\n",
    "data['population'] = data['population'].replace(0, mean_population_year)"
   ]
  },
  {
   "cell_type": "code",
   "execution_count": 36,
   "id": "a634ed9a",
   "metadata": {},
   "outputs": [],
   "source": [
    "mean_region = data['gps_height'].mean()\n",
    "data['gps_height'] = data['gps_height'].replace(0, mean_region)"
   ]
  },
  {
   "cell_type": "code",
   "execution_count": 37,
   "id": "792c75ee",
   "metadata": {},
   "outputs": [],
   "source": [
    "median_amount = data['amount_tsh'].median()\n",
    "data['amount_tsh'] = data['amount_tsh'].replace(0, median_amount)"
   ]
  },
  {
   "cell_type": "code",
   "execution_count": 38,
   "id": "f69342ad",
   "metadata": {},
   "outputs": [
    {
     "data": {
      "text/plain": [
       "<Axes: >"
      ]
     },
     "execution_count": 38,
     "metadata": {},
     "output_type": "execute_result"
    },
    {
     "data": {
      "image/png": "[encoded data removed]",
      "text/plain": [
       "<Figure size 640x480 with 2 Axes>"
      ]
     },
     "metadata": {},
     "output_type": "display_data"
    }
   ],
   "source": [
    "data_numerica = data.select_dtypes(include=np.number)\n",
    "corr = abs(data_numerica.corr())\n",
    "sns.heatmap(corr, annot=True)"
   ]
  },
  {
   "cell_type": "markdown",
   "id": "b334a95a",
   "metadata": {},
   "source": [
    "Se ha reducido bastante la correlación entre las variables. Además, se ha decidido borrar num_private por su poca aportación al modelo"
   ]
  },
  {
   "cell_type": "code",
   "execution_count": 39,
   "id": "3ab34b85",
   "metadata": {},
   "outputs": [],
   "source": [
    "data=data.drop([\"num_private\"], axis=1)"
   ]
  },
  {
   "cell_type": "code",
   "execution_count": 40,
   "id": "64dcfe0f",
   "metadata": {},
   "outputs": [
    {
     "data": {
      "text/html": [
       "<div>\n",
       "<style scoped>\n",
       "    .dataframe tbody tr th:only-of-type {\n",
       "        vertical-align: middle;\n",
       "    }\n",
       "\n",
       "    .dataframe tbody tr th {\n",
       "        vertical-align: top;\n",
       "    }\n",
       "\n",
       "    .dataframe thead th {\n",
       "        text-align: right;\n",
       "    }\n",
       "</style>\n",
       "<table border=\"1\" class=\"dataframe\">\n",
       "  <thead>\n",
       "    <tr style=\"text-align: right;\">\n",
       "      <th></th>\n",
       "      <th>amount_tsh</th>\n",
       "      <th>gps_height</th>\n",
       "      <th>longitude</th>\n",
       "      <th>latitude</th>\n",
       "      <th>region_code</th>\n",
       "      <th>population</th>\n",
       "      <th>construction_year</th>\n",
       "      <th>status_group</th>\n",
       "    </tr>\n",
       "  </thead>\n",
       "  <tbody>\n",
       "    <tr>\n",
       "      <th>count</th>\n",
       "      <td>59400.000000</td>\n",
       "      <td>59400.000000</td>\n",
       "      <td>59400.000000</td>\n",
       "      <td>5.940000e+04</td>\n",
       "      <td>59400.000000</td>\n",
       "      <td>59400.000000</td>\n",
       "      <td>59400.000000</td>\n",
       "      <td>59400.000000</td>\n",
       "    </tr>\n",
       "    <tr>\n",
       "      <th>mean</th>\n",
       "      <td>317.650385</td>\n",
       "      <td>898.240993</td>\n",
       "      <td>35.116960</td>\n",
       "      <td>-5.706033e+00</td>\n",
       "      <td>15.297003</td>\n",
       "      <td>244.668491</td>\n",
       "      <td>1754.107224</td>\n",
       "      <td>0.688434</td>\n",
       "    </tr>\n",
       "    <tr>\n",
       "      <th>std</th>\n",
       "      <td>2997.574558</td>\n",
       "      <td>523.318156</td>\n",
       "      <td>2.573963</td>\n",
       "      <td>2.946019e+00</td>\n",
       "      <td>17.587406</td>\n",
       "      <td>454.368583</td>\n",
       "      <td>331.903637</td>\n",
       "      <td>0.599877</td>\n",
       "    </tr>\n",
       "    <tr>\n",
       "      <th>min</th>\n",
       "      <td>0.000000</td>\n",
       "      <td>-90.000000</td>\n",
       "      <td>29.607122</td>\n",
       "      <td>-1.164944e+01</td>\n",
       "      <td>1.000000</td>\n",
       "      <td>1.000000</td>\n",
       "      <td>1300.652475</td>\n",
       "      <td>0.000000</td>\n",
       "    </tr>\n",
       "    <tr>\n",
       "      <th>25%</th>\n",
       "      <td>0.000000</td>\n",
       "      <td>668.297239</td>\n",
       "      <td>33.354079</td>\n",
       "      <td>-8.540621e+00</td>\n",
       "      <td>5.000000</td>\n",
       "      <td>100.000000</td>\n",
       "      <td>1300.652475</td>\n",
       "      <td>0.000000</td>\n",
       "    </tr>\n",
       "    <tr>\n",
       "      <th>50%</th>\n",
       "      <td>0.000000</td>\n",
       "      <td>668.297239</td>\n",
       "      <td>34.908743</td>\n",
       "      <td>-5.021597e+00</td>\n",
       "      <td>12.000000</td>\n",
       "      <td>179.909983</td>\n",
       "      <td>1986.000000</td>\n",
       "      <td>1.000000</td>\n",
       "    </tr>\n",
       "    <tr>\n",
       "      <th>75%</th>\n",
       "      <td>20.000000</td>\n",
       "      <td>1319.250000</td>\n",
       "      <td>37.178387</td>\n",
       "      <td>-3.326156e+00</td>\n",
       "      <td>17.000000</td>\n",
       "      <td>215.000000</td>\n",
       "      <td>2004.000000</td>\n",
       "      <td>1.000000</td>\n",
       "    </tr>\n",
       "    <tr>\n",
       "      <th>max</th>\n",
       "      <td>350000.000000</td>\n",
       "      <td>2770.000000</td>\n",
       "      <td>40.345193</td>\n",
       "      <td>-2.000000e-08</td>\n",
       "      <td>99.000000</td>\n",
       "      <td>30500.000000</td>\n",
       "      <td>2013.000000</td>\n",
       "      <td>2.000000</td>\n",
       "    </tr>\n",
       "  </tbody>\n",
       "</table>\n",
       "</div>"
      ],
      "text/plain": [
       "          amount_tsh    gps_height     longitude      latitude   region_code  \\\n",
       "count   59400.000000  59400.000000  59400.000000  5.940000e+04  59400.000000   \n",
       "mean      317.650385    898.240993     35.116960 -5.706033e+00     15.297003   \n",
       "std      2997.574558    523.318156      2.573963  2.946019e+00     17.587406   \n",
       "min         0.000000    -90.000000     29.607122 -1.164944e+01      1.000000   \n",
       "25%         0.000000    668.297239     33.354079 -8.540621e+00      5.000000   \n",
       "50%         0.000000    668.297239     34.908743 -5.021597e+00     12.000000   \n",
       "75%        20.000000   1319.250000     37.178387 -3.326156e+00     17.000000   \n",
       "max    350000.000000   2770.000000     40.345193 -2.000000e-08     99.000000   \n",
       "\n",
       "         population  construction_year  status_group  \n",
       "count  59400.000000       59400.000000  59400.000000  \n",
       "mean     244.668491        1754.107224      0.688434  \n",
       "std      454.368583         331.903637      0.599877  \n",
       "min        1.000000        1300.652475      0.000000  \n",
       "25%      100.000000        1300.652475      0.000000  \n",
       "50%      179.909983        1986.000000      1.000000  \n",
       "75%      215.000000        2004.000000      1.000000  \n",
       "max    30500.000000        2013.000000      2.000000  "
      ]
     },
     "execution_count": 40,
     "metadata": {},
     "output_type": "execute_result"
    }
   ],
   "source": [
    "data.describe()"
   ]
  },
  {
   "cell_type": "code",
   "execution_count": 41,
   "id": "9d505d60",
   "metadata": {},
   "outputs": [
    {
     "name": "stdout",
     "output_type": "stream",
     "text": [
      "<class 'pandas.core.frame.DataFrame'>\n",
      "RangeIndex: 59400 entries, 0 to 59399\n",
      "Data columns (total 25 columns):\n",
      " #   Column                 Non-Null Count  Dtype  \n",
      "---  ------                 --------------  -----  \n",
      " 0   amount_tsh             59400 non-null  float64\n",
      " 1   date_recorded          59400 non-null  object \n",
      " 2   funder                 59400 non-null  object \n",
      " 3   gps_height             59400 non-null  float64\n",
      " 4   installer              59400 non-null  object \n",
      " 5   longitude              59400 non-null  float64\n",
      " 6   latitude               59400 non-null  float64\n",
      " 7   basin                  59400 non-null  object \n",
      " 8   region_code            59400 non-null  int64  \n",
      " 9   population             59400 non-null  float64\n",
      " 10  public_meeting         59400 non-null  bool   \n",
      " 11  recorded_by            59400 non-null  object \n",
      " 12  scheme_management      59400 non-null  object \n",
      " 13  permit                 59400 non-null  bool   \n",
      " 14  construction_year      59400 non-null  float64\n",
      " 15  extraction_type_class  59400 non-null  object \n",
      " 16  management_group       59400 non-null  object \n",
      " 17  payment                59400 non-null  object \n",
      " 18  water_quality          59400 non-null  object \n",
      " 19  quality_group          59400 non-null  object \n",
      " 20  quantity               59400 non-null  object \n",
      " 21  source                 59400 non-null  object \n",
      " 22  source_class           59400 non-null  object \n",
      " 23  waterpoint_type_group  59400 non-null  object \n",
      " 24  status_group           59400 non-null  int64  \n",
      "dtypes: bool(2), float64(6), int64(2), object(15)\n",
      "memory usage: 10.5+ MB\n"
     ]
    }
   ],
   "source": [
    "data.info()"
   ]
  },
  {
   "cell_type": "markdown",
   "id": "10cecaa2",
   "metadata": {},
   "source": [
    "Continuamos analizando la presencia de variables con booleanas. Sería interesante cambiarlos a valores de 1 o 0"
   ]
  },
  {
   "cell_type": "code",
   "execution_count": 42,
   "id": "09c65b22",
   "metadata": {},
   "outputs": [
    {
     "data": {
      "text/plain": [
       "permit\n",
       "True     41908\n",
       "False    17492\n",
       "Name: count, dtype: int64"
      ]
     },
     "execution_count": 42,
     "metadata": {},
     "output_type": "execute_result"
    }
   ],
   "source": [
    "data.permit.value_counts()"
   ]
  },
  {
   "cell_type": "code",
   "execution_count": 43,
   "id": "ec1bdc8c",
   "metadata": {},
   "outputs": [
    {
     "data": {
      "text/plain": [
       "public_meeting\n",
       "True     54345\n",
       "False     5055\n",
       "Name: count, dtype: int64"
      ]
     },
     "execution_count": 43,
     "metadata": {},
     "output_type": "execute_result"
    }
   ],
   "source": [
    "data.public_meeting.value_counts()"
   ]
  },
  {
   "cell_type": "code",
   "execution_count": 44,
   "id": "3cbfe1f8",
   "metadata": {},
   "outputs": [],
   "source": [
    "categoricas_binarias=[\"permit\",\"public_meeting\"]\n",
    "for j in categoricas_binarias:\n",
    "    data[j] = [0 if x == True else 1 for x in data[j]]"
   ]
  },
  {
   "cell_type": "markdown",
   "id": "f9c381ab",
   "metadata": {},
   "source": [
    "Contiamos manipulando las fechas. En la matriz de correlación se pudo ver como el año de construcción tenía corralación con la varibale dependiente, por lo que el tiempo va a ser importante en el modelo. Vamos a diseccionar la variable date_recorder en días, meses y años. También crearemos una vaiable nueva que mida la duración desde el año de construcción"
   ]
  },
  {
   "cell_type": "code",
   "execution_count": 45,
   "id": "1f9c1edb",
   "metadata": {},
   "outputs": [],
   "source": [
    "#hay que transformar data_recorder a formato fecha\n",
    "data[\"date_recorded\"]=pd.to_datetime(data[\"date_recorded\"])\n",
    "min_date = data['date_recorded'].min()\n",
    "data['date_recorded_days'] = (data['date_recorded'] - min_date).dt.days\n",
    "data['month_recorded'] = data['date_recorded'].dt.month\n",
    "data['year_recorded'] = data['date_recorded'].dt.year\n",
    "data=data.drop(\"date_recorded\", axis=1)\n"
   ]
  },
  {
   "cell_type": "code",
   "execution_count": 46,
   "id": "9baaf5de",
   "metadata": {},
   "outputs": [],
   "source": [
    "#Añadimos una nueva variable\n",
    "data[\"duration\"]=data['year_recorded']-data[\"construction_year\"]"
   ]
  },
  {
   "cell_type": "code",
   "execution_count": 47,
   "id": "308fa861",
   "metadata": {},
   "outputs": [
    {
     "name": "stdout",
     "output_type": "stream",
     "text": [
      "<class 'pandas.core.frame.DataFrame'>\n",
      "RangeIndex: 59400 entries, 0 to 59399\n",
      "Data columns (total 28 columns):\n",
      " #   Column                 Non-Null Count  Dtype  \n",
      "---  ------                 --------------  -----  \n",
      " 0   amount_tsh             59400 non-null  float64\n",
      " 1   funder                 59400 non-null  object \n",
      " 2   gps_height             59400 non-null  float64\n",
      " 3   installer              59400 non-null  object \n",
      " 4   longitude              59400 non-null  float64\n",
      " 5   latitude               59400 non-null  float64\n",
      " 6   basin                  59400 non-null  object \n",
      " 7   region_code            59400 non-null  int64  \n",
      " 8   population             59400 non-null  float64\n",
      " 9   public_meeting         59400 non-null  int64  \n",
      " 10  recorded_by            59400 non-null  object \n",
      " 11  scheme_management      59400 non-null  object \n",
      " 12  permit                 59400 non-null  int64  \n",
      " 13  construction_year      59400 non-null  float64\n",
      " 14  extraction_type_class  59400 non-null  object \n",
      " 15  management_group       59400 non-null  object \n",
      " 16  payment                59400 non-null  object \n",
      " 17  water_quality          59400 non-null  object \n",
      " 18  quality_group          59400 non-null  object \n",
      " 19  quantity               59400 non-null  object \n",
      " 20  source                 59400 non-null  object \n",
      " 21  source_class           59400 non-null  object \n",
      " 22  waterpoint_type_group  59400 non-null  object \n",
      " 23  status_group           59400 non-null  int64  \n",
      " 24  date_recorded_days     59400 non-null  int64  \n",
      " 25  month_recorded         59400 non-null  int32  \n",
      " 26  year_recorded          59400 non-null  int32  \n",
      " 27  duration               59400 non-null  float64\n",
      "dtypes: float64(7), int32(2), int64(5), object(14)\n",
      "memory usage: 12.2+ MB\n"
     ]
    }
   ],
   "source": [
    "data.info()"
   ]
  },
  {
   "cell_type": "markdown",
   "id": "b0d28855",
   "metadata": {},
   "source": [
    "Obtenemos dummies, antes de pasar al entrenamiento"
   ]
  },
  {
   "cell_type": "code",
   "execution_count": 48,
   "id": "37c5f9a7",
   "metadata": {},
   "outputs": [],
   "source": [
    "data_dummies=pd.get_dummies(data)"
   ]
  },
  {
   "cell_type": "code",
   "execution_count": 49,
   "id": "536c126a",
   "metadata": {},
   "outputs": [
    {
     "data": {
      "text/html": [
       "<div>\n",
       "<style scoped>\n",
       "    .dataframe tbody tr th:only-of-type {\n",
       "        vertical-align: middle;\n",
       "    }\n",
       "\n",
       "    .dataframe tbody tr th {\n",
       "        vertical-align: top;\n",
       "    }\n",
       "\n",
       "    .dataframe thead th {\n",
       "        text-align: right;\n",
       "    }\n",
       "</style>\n",
       "<table border=\"1\" class=\"dataframe\">\n",
       "  <thead>\n",
       "    <tr style=\"text-align: right;\">\n",
       "      <th></th>\n",
       "      <th>amount_tsh</th>\n",
       "      <th>gps_height</th>\n",
       "      <th>longitude</th>\n",
       "      <th>latitude</th>\n",
       "      <th>region_code</th>\n",
       "      <th>population</th>\n",
       "      <th>public_meeting</th>\n",
       "      <th>permit</th>\n",
       "      <th>construction_year</th>\n",
       "      <th>status_group</th>\n",
       "      <th>...</th>\n",
       "      <th>source_unknown</th>\n",
       "      <th>source_class_groundwater</th>\n",
       "      <th>source_class_surface</th>\n",
       "      <th>source_class_unknown</th>\n",
       "      <th>waterpoint_type_group_cattle trough</th>\n",
       "      <th>waterpoint_type_group_communal standpipe</th>\n",
       "      <th>waterpoint_type_group_dam</th>\n",
       "      <th>waterpoint_type_group_hand pump</th>\n",
       "      <th>waterpoint_type_group_improved spring</th>\n",
       "      <th>waterpoint_type_group_other</th>\n",
       "    </tr>\n",
       "  </thead>\n",
       "  <tbody>\n",
       "    <tr>\n",
       "      <th>0</th>\n",
       "      <td>6000.0</td>\n",
       "      <td>1390.000000</td>\n",
       "      <td>34.938093</td>\n",
       "      <td>-9.856322</td>\n",
       "      <td>11</td>\n",
       "      <td>109.000000</td>\n",
       "      <td>0</td>\n",
       "      <td>1</td>\n",
       "      <td>1999.000000</td>\n",
       "      <td>1</td>\n",
       "      <td>...</td>\n",
       "      <td>False</td>\n",
       "      <td>True</td>\n",
       "      <td>False</td>\n",
       "      <td>False</td>\n",
       "      <td>False</td>\n",
       "      <td>True</td>\n",
       "      <td>False</td>\n",
       "      <td>False</td>\n",
       "      <td>False</td>\n",
       "      <td>False</td>\n",
       "    </tr>\n",
       "    <tr>\n",
       "      <th>1</th>\n",
       "      <td>0.0</td>\n",
       "      <td>1399.000000</td>\n",
       "      <td>34.698766</td>\n",
       "      <td>-2.147466</td>\n",
       "      <td>20</td>\n",
       "      <td>280.000000</td>\n",
       "      <td>0</td>\n",
       "      <td>0</td>\n",
       "      <td>2010.000000</td>\n",
       "      <td>1</td>\n",
       "      <td>...</td>\n",
       "      <td>False</td>\n",
       "      <td>False</td>\n",
       "      <td>True</td>\n",
       "      <td>False</td>\n",
       "      <td>False</td>\n",
       "      <td>True</td>\n",
       "      <td>False</td>\n",
       "      <td>False</td>\n",
       "      <td>False</td>\n",
       "      <td>False</td>\n",
       "    </tr>\n",
       "    <tr>\n",
       "      <th>2</th>\n",
       "      <td>25.0</td>\n",
       "      <td>686.000000</td>\n",
       "      <td>37.460664</td>\n",
       "      <td>-3.821329</td>\n",
       "      <td>21</td>\n",
       "      <td>250.000000</td>\n",
       "      <td>0</td>\n",
       "      <td>0</td>\n",
       "      <td>2009.000000</td>\n",
       "      <td>1</td>\n",
       "      <td>...</td>\n",
       "      <td>False</td>\n",
       "      <td>False</td>\n",
       "      <td>True</td>\n",
       "      <td>False</td>\n",
       "      <td>False</td>\n",
       "      <td>True</td>\n",
       "      <td>False</td>\n",
       "      <td>False</td>\n",
       "      <td>False</td>\n",
       "      <td>False</td>\n",
       "    </tr>\n",
       "    <tr>\n",
       "      <th>3</th>\n",
       "      <td>0.0</td>\n",
       "      <td>263.000000</td>\n",
       "      <td>38.486161</td>\n",
       "      <td>-11.155298</td>\n",
       "      <td>90</td>\n",
       "      <td>58.000000</td>\n",
       "      <td>0</td>\n",
       "      <td>0</td>\n",
       "      <td>1986.000000</td>\n",
       "      <td>0</td>\n",
       "      <td>...</td>\n",
       "      <td>False</td>\n",
       "      <td>True</td>\n",
       "      <td>False</td>\n",
       "      <td>False</td>\n",
       "      <td>False</td>\n",
       "      <td>True</td>\n",
       "      <td>False</td>\n",
       "      <td>False</td>\n",
       "      <td>False</td>\n",
       "      <td>False</td>\n",
       "    </tr>\n",
       "    <tr>\n",
       "      <th>4</th>\n",
       "      <td>0.0</td>\n",
       "      <td>668.297239</td>\n",
       "      <td>31.130847</td>\n",
       "      <td>-1.825359</td>\n",
       "      <td>18</td>\n",
       "      <td>179.909983</td>\n",
       "      <td>0</td>\n",
       "      <td>0</td>\n",
       "      <td>1300.652475</td>\n",
       "      <td>1</td>\n",
       "      <td>...</td>\n",
       "      <td>False</td>\n",
       "      <td>False</td>\n",
       "      <td>True</td>\n",
       "      <td>False</td>\n",
       "      <td>False</td>\n",
       "      <td>True</td>\n",
       "      <td>False</td>\n",
       "      <td>False</td>\n",
       "      <td>False</td>\n",
       "      <td>False</td>\n",
       "    </tr>\n",
       "    <tr>\n",
       "      <th>...</th>\n",
       "      <td>...</td>\n",
       "      <td>...</td>\n",
       "      <td>...</td>\n",
       "      <td>...</td>\n",
       "      <td>...</td>\n",
       "      <td>...</td>\n",
       "      <td>...</td>\n",
       "      <td>...</td>\n",
       "      <td>...</td>\n",
       "      <td>...</td>\n",
       "      <td>...</td>\n",
       "      <td>...</td>\n",
       "      <td>...</td>\n",
       "      <td>...</td>\n",
       "      <td>...</td>\n",
       "      <td>...</td>\n",
       "      <td>...</td>\n",
       "      <td>...</td>\n",
       "      <td>...</td>\n",
       "      <td>...</td>\n",
       "      <td>...</td>\n",
       "    </tr>\n",
       "    <tr>\n",
       "      <th>59395</th>\n",
       "      <td>10.0</td>\n",
       "      <td>1210.000000</td>\n",
       "      <td>37.169807</td>\n",
       "      <td>-3.253847</td>\n",
       "      <td>3</td>\n",
       "      <td>125.000000</td>\n",
       "      <td>0</td>\n",
       "      <td>0</td>\n",
       "      <td>1999.000000</td>\n",
       "      <td>1</td>\n",
       "      <td>...</td>\n",
       "      <td>False</td>\n",
       "      <td>True</td>\n",
       "      <td>False</td>\n",
       "      <td>False</td>\n",
       "      <td>False</td>\n",
       "      <td>True</td>\n",
       "      <td>False</td>\n",
       "      <td>False</td>\n",
       "      <td>False</td>\n",
       "      <td>False</td>\n",
       "    </tr>\n",
       "    <tr>\n",
       "      <th>59396</th>\n",
       "      <td>4700.0</td>\n",
       "      <td>1212.000000</td>\n",
       "      <td>35.249991</td>\n",
       "      <td>-9.070629</td>\n",
       "      <td>11</td>\n",
       "      <td>56.000000</td>\n",
       "      <td>0</td>\n",
       "      <td>0</td>\n",
       "      <td>1996.000000</td>\n",
       "      <td>1</td>\n",
       "      <td>...</td>\n",
       "      <td>False</td>\n",
       "      <td>False</td>\n",
       "      <td>True</td>\n",
       "      <td>False</td>\n",
       "      <td>False</td>\n",
       "      <td>True</td>\n",
       "      <td>False</td>\n",
       "      <td>False</td>\n",
       "      <td>False</td>\n",
       "      <td>False</td>\n",
       "    </tr>\n",
       "    <tr>\n",
       "      <th>59397</th>\n",
       "      <td>0.0</td>\n",
       "      <td>668.297239</td>\n",
       "      <td>34.017087</td>\n",
       "      <td>-8.750434</td>\n",
       "      <td>12</td>\n",
       "      <td>179.909983</td>\n",
       "      <td>0</td>\n",
       "      <td>1</td>\n",
       "      <td>1300.652475</td>\n",
       "      <td>1</td>\n",
       "      <td>...</td>\n",
       "      <td>False</td>\n",
       "      <td>True</td>\n",
       "      <td>False</td>\n",
       "      <td>False</td>\n",
       "      <td>False</td>\n",
       "      <td>False</td>\n",
       "      <td>False</td>\n",
       "      <td>True</td>\n",
       "      <td>False</td>\n",
       "      <td>False</td>\n",
       "    </tr>\n",
       "    <tr>\n",
       "      <th>59398</th>\n",
       "      <td>0.0</td>\n",
       "      <td>668.297239</td>\n",
       "      <td>35.861315</td>\n",
       "      <td>-6.378573</td>\n",
       "      <td>1</td>\n",
       "      <td>179.909983</td>\n",
       "      <td>0</td>\n",
       "      <td>0</td>\n",
       "      <td>1300.652475</td>\n",
       "      <td>1</td>\n",
       "      <td>...</td>\n",
       "      <td>False</td>\n",
       "      <td>True</td>\n",
       "      <td>False</td>\n",
       "      <td>False</td>\n",
       "      <td>False</td>\n",
       "      <td>False</td>\n",
       "      <td>False</td>\n",
       "      <td>True</td>\n",
       "      <td>False</td>\n",
       "      <td>False</td>\n",
       "    </tr>\n",
       "    <tr>\n",
       "      <th>59399</th>\n",
       "      <td>0.0</td>\n",
       "      <td>191.000000</td>\n",
       "      <td>38.104048</td>\n",
       "      <td>-6.747464</td>\n",
       "      <td>5</td>\n",
       "      <td>150.000000</td>\n",
       "      <td>0</td>\n",
       "      <td>0</td>\n",
       "      <td>2002.000000</td>\n",
       "      <td>1</td>\n",
       "      <td>...</td>\n",
       "      <td>False</td>\n",
       "      <td>True</td>\n",
       "      <td>False</td>\n",
       "      <td>False</td>\n",
       "      <td>False</td>\n",
       "      <td>False</td>\n",
       "      <td>False</td>\n",
       "      <td>True</td>\n",
       "      <td>False</td>\n",
       "      <td>False</td>\n",
       "    </tr>\n",
       "  </tbody>\n",
       "</table>\n",
       "<p>59400 rows × 103 columns</p>\n",
       "</div>"
      ],
      "text/plain": [
       "       amount_tsh   gps_height  longitude   latitude  region_code  population  \\\n",
       "0          6000.0  1390.000000  34.938093  -9.856322           11  109.000000   \n",
       "1             0.0  1399.000000  34.698766  -2.147466           20  280.000000   \n",
       "2            25.0   686.000000  37.460664  -3.821329           21  250.000000   \n",
       "3             0.0   263.000000  38.486161 -11.155298           90   58.000000   \n",
       "4             0.0   668.297239  31.130847  -1.825359           18  179.909983   \n",
       "...           ...          ...        ...        ...          ...         ...   \n",
       "59395        10.0  1210.000000  37.169807  -3.253847            3  125.000000   \n",
       "59396      4700.0  1212.000000  35.249991  -9.070629           11   56.000000   \n",
       "59397         0.0   668.297239  34.017087  -8.750434           12  179.909983   \n",
       "59398         0.0   668.297239  35.861315  -6.378573            1  179.909983   \n",
       "59399         0.0   191.000000  38.104048  -6.747464            5  150.000000   \n",
       "\n",
       "       public_meeting  permit  construction_year  status_group  ...  \\\n",
       "0                   0       1        1999.000000             1  ...   \n",
       "1                   0       0        2010.000000             1  ...   \n",
       "2                   0       0        2009.000000             1  ...   \n",
       "3                   0       0        1986.000000             0  ...   \n",
       "4                   0       0        1300.652475             1  ...   \n",
       "...               ...     ...                ...           ...  ...   \n",
       "59395               0       0        1999.000000             1  ...   \n",
       "59396               0       0        1996.000000             1  ...   \n",
       "59397               0       1        1300.652475             1  ...   \n",
       "59398               0       0        1300.652475             1  ...   \n",
       "59399               0       0        2002.000000             1  ...   \n",
       "\n",
       "       source_unknown  source_class_groundwater  source_class_surface  \\\n",
       "0               False                      True                 False   \n",
       "1               False                     False                  True   \n",
       "2               False                     False                  True   \n",
       "3               False                      True                 False   \n",
       "4               False                     False                  True   \n",
       "...               ...                       ...                   ...   \n",
       "59395           False                      True                 False   \n",
       "59396           False                     False                  True   \n",
       "59397           False                      True                 False   \n",
       "59398           False                      True                 False   \n",
       "59399           False                      True                 False   \n",
       "\n",
       "       source_class_unknown  waterpoint_type_group_cattle trough  \\\n",
       "0                     False                                False   \n",
       "1                     False                                False   \n",
       "2                     False                                False   \n",
       "3                     False                                False   \n",
       "4                     False                                False   \n",
       "...                     ...                                  ...   \n",
       "59395                 False                                False   \n",
       "59396                 False                                False   \n",
       "59397                 False                                False   \n",
       "59398                 False                                False   \n",
       "59399                 False                                False   \n",
       "\n",
       "       waterpoint_type_group_communal standpipe  waterpoint_type_group_dam  \\\n",
       "0                                          True                      False   \n",
       "1                                          True                      False   \n",
       "2                                          True                      False   \n",
       "3                                          True                      False   \n",
       "4                                          True                      False   \n",
       "...                                         ...                        ...   \n",
       "59395                                      True                      False   \n",
       "59396                                      True                      False   \n",
       "59397                                     False                      False   \n",
       "59398                                     False                      False   \n",
       "59399                                     False                      False   \n",
       "\n",
       "       waterpoint_type_group_hand pump  waterpoint_type_group_improved spring  \\\n",
       "0                                False                                  False   \n",
       "1                                False                                  False   \n",
       "2                                False                                  False   \n",
       "3                                False                                  False   \n",
       "4                                False                                  False   \n",
       "...                                ...                                    ...   \n",
       "59395                            False                                  False   \n",
       "59396                            False                                  False   \n",
       "59397                             True                                  False   \n",
       "59398                             True                                  False   \n",
       "59399                             True                                  False   \n",
       "\n",
       "       waterpoint_type_group_other  \n",
       "0                            False  \n",
       "1                            False  \n",
       "2                            False  \n",
       "3                            False  \n",
       "4                            False  \n",
       "...                            ...  \n",
       "59395                        False  \n",
       "59396                        False  \n",
       "59397                        False  \n",
       "59398                        False  \n",
       "59399                        False  \n",
       "\n",
       "[59400 rows x 103 columns]"
      ]
     },
     "execution_count": 49,
     "metadata": {},
     "output_type": "execute_result"
    }
   ],
   "source": [
    "data_dummies"
   ]
  },
  {
   "cell_type": "markdown",
   "id": "2c9d0e48",
   "metadata": {},
   "source": [
    "**ENTRENAMIENTO**"
   ]
  },
  {
   "cell_type": "markdown",
   "id": "10a65c3b",
   "metadata": {},
   "source": [
    "Vamos a dividir nuestro datasete en dos matrices X e Y para luego hacer las divisiones en train y test. Se ha optado por un tamaño de test del 25% por lo que el 75% irá a train"
   ]
  },
  {
   "cell_type": "code",
   "execution_count": 50,
   "id": "b154e3b4",
   "metadata": {},
   "outputs": [],
   "source": [
    "X=data_dummies.drop(\"status_group\", axis=1)\n",
    "Y=data_dummies[\"status_group\"]\n",
    "X_train, x_test, Y_train, y_test=train_test_split(X, Y, test_size=0.25, random_state=12, stratify =Y)"
   ]
  },
  {
   "cell_type": "code",
   "execution_count": 51,
   "id": "2161df22",
   "metadata": {},
   "outputs": [
    {
     "data": {
      "text/html": [
       "<div>\n",
       "<style scoped>\n",
       "    .dataframe tbody tr th:only-of-type {\n",
       "        vertical-align: middle;\n",
       "    }\n",
       "\n",
       "    .dataframe tbody tr th {\n",
       "        vertical-align: top;\n",
       "    }\n",
       "\n",
       "    .dataframe thead th {\n",
       "        text-align: right;\n",
       "    }\n",
       "</style>\n",
       "<table border=\"1\" class=\"dataframe\">\n",
       "  <thead>\n",
       "    <tr style=\"text-align: right;\">\n",
       "      <th></th>\n",
       "      <th>amount_tsh</th>\n",
       "      <th>gps_height</th>\n",
       "      <th>longitude</th>\n",
       "      <th>latitude</th>\n",
       "      <th>region_code</th>\n",
       "      <th>population</th>\n",
       "      <th>public_meeting</th>\n",
       "      <th>permit</th>\n",
       "      <th>construction_year</th>\n",
       "      <th>date_recorded_days</th>\n",
       "      <th>...</th>\n",
       "      <th>source_unknown</th>\n",
       "      <th>source_class_groundwater</th>\n",
       "      <th>source_class_surface</th>\n",
       "      <th>source_class_unknown</th>\n",
       "      <th>waterpoint_type_group_cattle trough</th>\n",
       "      <th>waterpoint_type_group_communal standpipe</th>\n",
       "      <th>waterpoint_type_group_dam</th>\n",
       "      <th>waterpoint_type_group_hand pump</th>\n",
       "      <th>waterpoint_type_group_improved spring</th>\n",
       "      <th>waterpoint_type_group_other</th>\n",
       "    </tr>\n",
       "  </thead>\n",
       "  <tbody>\n",
       "    <tr>\n",
       "      <th>0</th>\n",
       "      <td>6000.0</td>\n",
       "      <td>1390.000000</td>\n",
       "      <td>34.938093</td>\n",
       "      <td>-9.856322</td>\n",
       "      <td>11</td>\n",
       "      <td>109.000000</td>\n",
       "      <td>0</td>\n",
       "      <td>1</td>\n",
       "      <td>1999.000000</td>\n",
       "      <td>3073</td>\n",
       "      <td>...</td>\n",
       "      <td>False</td>\n",
       "      <td>True</td>\n",
       "      <td>False</td>\n",
       "      <td>False</td>\n",
       "      <td>False</td>\n",
       "      <td>True</td>\n",
       "      <td>False</td>\n",
       "      <td>False</td>\n",
       "      <td>False</td>\n",
       "      <td>False</td>\n",
       "    </tr>\n",
       "    <tr>\n",
       "      <th>1</th>\n",
       "      <td>0.0</td>\n",
       "      <td>1399.000000</td>\n",
       "      <td>34.698766</td>\n",
       "      <td>-2.147466</td>\n",
       "      <td>20</td>\n",
       "      <td>280.000000</td>\n",
       "      <td>0</td>\n",
       "      <td>0</td>\n",
       "      <td>2010.000000</td>\n",
       "      <td>3796</td>\n",
       "      <td>...</td>\n",
       "      <td>False</td>\n",
       "      <td>False</td>\n",
       "      <td>True</td>\n",
       "      <td>False</td>\n",
       "      <td>False</td>\n",
       "      <td>True</td>\n",
       "      <td>False</td>\n",
       "      <td>False</td>\n",
       "      <td>False</td>\n",
       "      <td>False</td>\n",
       "    </tr>\n",
       "    <tr>\n",
       "      <th>2</th>\n",
       "      <td>25.0</td>\n",
       "      <td>686.000000</td>\n",
       "      <td>37.460664</td>\n",
       "      <td>-3.821329</td>\n",
       "      <td>21</td>\n",
       "      <td>250.000000</td>\n",
       "      <td>0</td>\n",
       "      <td>0</td>\n",
       "      <td>2009.000000</td>\n",
       "      <td>3787</td>\n",
       "      <td>...</td>\n",
       "      <td>False</td>\n",
       "      <td>False</td>\n",
       "      <td>True</td>\n",
       "      <td>False</td>\n",
       "      <td>False</td>\n",
       "      <td>True</td>\n",
       "      <td>False</td>\n",
       "      <td>False</td>\n",
       "      <td>False</td>\n",
       "      <td>False</td>\n",
       "    </tr>\n",
       "    <tr>\n",
       "      <th>3</th>\n",
       "      <td>0.0</td>\n",
       "      <td>263.000000</td>\n",
       "      <td>38.486161</td>\n",
       "      <td>-11.155298</td>\n",
       "      <td>90</td>\n",
       "      <td>58.000000</td>\n",
       "      <td>0</td>\n",
       "      <td>0</td>\n",
       "      <td>1986.000000</td>\n",
       "      <td>3759</td>\n",
       "      <td>...</td>\n",
       "      <td>False</td>\n",
       "      <td>True</td>\n",
       "      <td>False</td>\n",
       "      <td>False</td>\n",
       "      <td>False</td>\n",
       "      <td>True</td>\n",
       "      <td>False</td>\n",
       "      <td>False</td>\n",
       "      <td>False</td>\n",
       "      <td>False</td>\n",
       "    </tr>\n",
       "    <tr>\n",
       "      <th>4</th>\n",
       "      <td>0.0</td>\n",
       "      <td>668.297239</td>\n",
       "      <td>31.130847</td>\n",
       "      <td>-1.825359</td>\n",
       "      <td>18</td>\n",
       "      <td>179.909983</td>\n",
       "      <td>0</td>\n",
       "      <td>0</td>\n",
       "      <td>1300.652475</td>\n",
       "      <td>3194</td>\n",
       "      <td>...</td>\n",
       "      <td>False</td>\n",
       "      <td>False</td>\n",
       "      <td>True</td>\n",
       "      <td>False</td>\n",
       "      <td>False</td>\n",
       "      <td>True</td>\n",
       "      <td>False</td>\n",
       "      <td>False</td>\n",
       "      <td>False</td>\n",
       "      <td>False</td>\n",
       "    </tr>\n",
       "    <tr>\n",
       "      <th>...</th>\n",
       "      <td>...</td>\n",
       "      <td>...</td>\n",
       "      <td>...</td>\n",
       "      <td>...</td>\n",
       "      <td>...</td>\n",
       "      <td>...</td>\n",
       "      <td>...</td>\n",
       "      <td>...</td>\n",
       "      <td>...</td>\n",
       "      <td>...</td>\n",
       "      <td>...</td>\n",
       "      <td>...</td>\n",
       "      <td>...</td>\n",
       "      <td>...</td>\n",
       "      <td>...</td>\n",
       "      <td>...</td>\n",
       "      <td>...</td>\n",
       "      <td>...</td>\n",
       "      <td>...</td>\n",
       "      <td>...</td>\n",
       "      <td>...</td>\n",
       "    </tr>\n",
       "    <tr>\n",
       "      <th>59395</th>\n",
       "      <td>10.0</td>\n",
       "      <td>1210.000000</td>\n",
       "      <td>37.169807</td>\n",
       "      <td>-3.253847</td>\n",
       "      <td>3</td>\n",
       "      <td>125.000000</td>\n",
       "      <td>0</td>\n",
       "      <td>0</td>\n",
       "      <td>1999.000000</td>\n",
       "      <td>3854</td>\n",
       "      <td>...</td>\n",
       "      <td>False</td>\n",
       "      <td>True</td>\n",
       "      <td>False</td>\n",
       "      <td>False</td>\n",
       "      <td>False</td>\n",
       "      <td>True</td>\n",
       "      <td>False</td>\n",
       "      <td>False</td>\n",
       "      <td>False</td>\n",
       "      <td>False</td>\n",
       "    </tr>\n",
       "    <tr>\n",
       "      <th>59396</th>\n",
       "      <td>4700.0</td>\n",
       "      <td>1212.000000</td>\n",
       "      <td>35.249991</td>\n",
       "      <td>-9.070629</td>\n",
       "      <td>11</td>\n",
       "      <td>56.000000</td>\n",
       "      <td>0</td>\n",
       "      <td>0</td>\n",
       "      <td>1996.000000</td>\n",
       "      <td>3127</td>\n",
       "      <td>...</td>\n",
       "      <td>False</td>\n",
       "      <td>False</td>\n",
       "      <td>True</td>\n",
       "      <td>False</td>\n",
       "      <td>False</td>\n",
       "      <td>True</td>\n",
       "      <td>False</td>\n",
       "      <td>False</td>\n",
       "      <td>False</td>\n",
       "      <td>False</td>\n",
       "    </tr>\n",
       "    <tr>\n",
       "      <th>59397</th>\n",
       "      <td>0.0</td>\n",
       "      <td>668.297239</td>\n",
       "      <td>34.017087</td>\n",
       "      <td>-8.750434</td>\n",
       "      <td>12</td>\n",
       "      <td>179.909983</td>\n",
       "      <td>0</td>\n",
       "      <td>1</td>\n",
       "      <td>1300.652475</td>\n",
       "      <td>3101</td>\n",
       "      <td>...</td>\n",
       "      <td>False</td>\n",
       "      <td>True</td>\n",
       "      <td>False</td>\n",
       "      <td>False</td>\n",
       "      <td>False</td>\n",
       "      <td>False</td>\n",
       "      <td>False</td>\n",
       "      <td>True</td>\n",
       "      <td>False</td>\n",
       "      <td>False</td>\n",
       "    </tr>\n",
       "    <tr>\n",
       "      <th>59398</th>\n",
       "      <td>0.0</td>\n",
       "      <td>668.297239</td>\n",
       "      <td>35.861315</td>\n",
       "      <td>-6.378573</td>\n",
       "      <td>1</td>\n",
       "      <td>179.909983</td>\n",
       "      <td>0</td>\n",
       "      <td>0</td>\n",
       "      <td>1300.652475</td>\n",
       "      <td>3067</td>\n",
       "      <td>...</td>\n",
       "      <td>False</td>\n",
       "      <td>True</td>\n",
       "      <td>False</td>\n",
       "      <td>False</td>\n",
       "      <td>False</td>\n",
       "      <td>False</td>\n",
       "      <td>False</td>\n",
       "      <td>True</td>\n",
       "      <td>False</td>\n",
       "      <td>False</td>\n",
       "    </tr>\n",
       "    <tr>\n",
       "      <th>59399</th>\n",
       "      <td>0.0</td>\n",
       "      <td>191.000000</td>\n",
       "      <td>38.104048</td>\n",
       "      <td>-6.747464</td>\n",
       "      <td>5</td>\n",
       "      <td>150.000000</td>\n",
       "      <td>0</td>\n",
       "      <td>0</td>\n",
       "      <td>2002.000000</td>\n",
       "      <td>3082</td>\n",
       "      <td>...</td>\n",
       "      <td>False</td>\n",
       "      <td>True</td>\n",
       "      <td>False</td>\n",
       "      <td>False</td>\n",
       "      <td>False</td>\n",
       "      <td>False</td>\n",
       "      <td>False</td>\n",
       "      <td>True</td>\n",
       "      <td>False</td>\n",
       "      <td>False</td>\n",
       "    </tr>\n",
       "  </tbody>\n",
       "</table>\n",
       "<p>59400 rows × 102 columns</p>\n",
       "</div>"
      ],
      "text/plain": [
       "       amount_tsh   gps_height  longitude   latitude  region_code  population  \\\n",
       "0          6000.0  1390.000000  34.938093  -9.856322           11  109.000000   \n",
       "1             0.0  1399.000000  34.698766  -2.147466           20  280.000000   \n",
       "2            25.0   686.000000  37.460664  -3.821329           21  250.000000   \n",
       "3             0.0   263.000000  38.486161 -11.155298           90   58.000000   \n",
       "4             0.0   668.297239  31.130847  -1.825359           18  179.909983   \n",
       "...           ...          ...        ...        ...          ...         ...   \n",
       "59395        10.0  1210.000000  37.169807  -3.253847            3  125.000000   \n",
       "59396      4700.0  1212.000000  35.249991  -9.070629           11   56.000000   \n",
       "59397         0.0   668.297239  34.017087  -8.750434           12  179.909983   \n",
       "59398         0.0   668.297239  35.861315  -6.378573            1  179.909983   \n",
       "59399         0.0   191.000000  38.104048  -6.747464            5  150.000000   \n",
       "\n",
       "       public_meeting  permit  construction_year  date_recorded_days  ...  \\\n",
       "0                   0       1        1999.000000                3073  ...   \n",
       "1                   0       0        2010.000000                3796  ...   \n",
       "2                   0       0        2009.000000                3787  ...   \n",
       "3                   0       0        1986.000000                3759  ...   \n",
       "4                   0       0        1300.652475                3194  ...   \n",
       "...               ...     ...                ...                 ...  ...   \n",
       "59395               0       0        1999.000000                3854  ...   \n",
       "59396               0       0        1996.000000                3127  ...   \n",
       "59397               0       1        1300.652475                3101  ...   \n",
       "59398               0       0        1300.652475                3067  ...   \n",
       "59399               0       0        2002.000000                3082  ...   \n",
       "\n",
       "       source_unknown  source_class_groundwater  source_class_surface  \\\n",
       "0               False                      True                 False   \n",
       "1               False                     False                  True   \n",
       "2               False                     False                  True   \n",
       "3               False                      True                 False   \n",
       "4               False                     False                  True   \n",
       "...               ...                       ...                   ...   \n",
       "59395           False                      True                 False   \n",
       "59396           False                     False                  True   \n",
       "59397           False                      True                 False   \n",
       "59398           False                      True                 False   \n",
       "59399           False                      True                 False   \n",
       "\n",
       "       source_class_unknown  waterpoint_type_group_cattle trough  \\\n",
       "0                     False                                False   \n",
       "1                     False                                False   \n",
       "2                     False                                False   \n",
       "3                     False                                False   \n",
       "4                     False                                False   \n",
       "...                     ...                                  ...   \n",
       "59395                 False                                False   \n",
       "59396                 False                                False   \n",
       "59397                 False                                False   \n",
       "59398                 False                                False   \n",
       "59399                 False                                False   \n",
       "\n",
       "       waterpoint_type_group_communal standpipe  waterpoint_type_group_dam  \\\n",
       "0                                          True                      False   \n",
       "1                                          True                      False   \n",
       "2                                          True                      False   \n",
       "3                                          True                      False   \n",
       "4                                          True                      False   \n",
       "...                                         ...                        ...   \n",
       "59395                                      True                      False   \n",
       "59396                                      True                      False   \n",
       "59397                                     False                      False   \n",
       "59398                                     False                      False   \n",
       "59399                                     False                      False   \n",
       "\n",
       "       waterpoint_type_group_hand pump  waterpoint_type_group_improved spring  \\\n",
       "0                                False                                  False   \n",
       "1                                False                                  False   \n",
       "2                                False                                  False   \n",
       "3                                False                                  False   \n",
       "4                                False                                  False   \n",
       "...                                ...                                    ...   \n",
       "59395                            False                                  False   \n",
       "59396                            False                                  False   \n",
       "59397                             True                                  False   \n",
       "59398                             True                                  False   \n",
       "59399                             True                                  False   \n",
       "\n",
       "       waterpoint_type_group_other  \n",
       "0                            False  \n",
       "1                            False  \n",
       "2                            False  \n",
       "3                            False  \n",
       "4                            False  \n",
       "...                            ...  \n",
       "59395                        False  \n",
       "59396                        False  \n",
       "59397                        False  \n",
       "59398                        False  \n",
       "59399                        False  \n",
       "\n",
       "[59400 rows x 102 columns]"
      ]
     },
     "execution_count": 51,
     "metadata": {},
     "output_type": "execute_result"
    }
   ],
   "source": [
    "X"
   ]
  },
  {
   "cell_type": "markdown",
   "id": "60139e38",
   "metadata": {},
   "source": [
    "Definimos 3 modelos simples al inicio. Todos ellos son de clasificación, pues es lo que buscamos. La idea es ver qué modelo obtiene una mejor accucary. Después buscaremos un modelo final modificando sus parámatros a fin de obetener un mejor rendimiento"
   ]
  },
  {
   "cell_type": "code",
   "execution_count": 52,
   "id": "a6af26d3",
   "metadata": {},
   "outputs": [],
   "source": [
    "model1=DecisionTreeClassifier()\n",
    "model2=RandomForestClassifier()\n",
    "model3=MLPClassifier()"
   ]
  },
  {
   "cell_type": "code",
   "execution_count": 53,
   "id": "6b8735bf",
   "metadata": {},
   "outputs": [
    {
     "data": {
      "text/html": [
       "<style>#sk-container-id-1 {color: black;}#sk-container-id-1 pre{padding: 0;}#sk-container-id-1 div.sk-toggleable {background-color: white;}#sk-container-id-1 label.sk-toggleable__label {cursor: pointer;display: block;width: 100%;margin-bottom: 0;padding: 0.3em;box-sizing: border-box;text-align: center;}#sk-container-id-1 label.sk-toggleable__label-arrow:before {content: \"▸\";float: left;margin-right: 0.25em;color: #696969;}#sk-container-id-1 label.sk-toggleable__label-arrow:hover:before {color: black;}#sk-container-id-1 div.sk-estimator:hover label.sk-toggleable__label-arrow:before {color: black;}#sk-container-id-1 div.sk-toggleable__content {max-height: 0;max-width: 0;overflow: hidden;text-align: left;background-color: #f0f8ff;}#sk-container-id-1 div.sk-toggleable__content pre {margin: 0.2em;color: black;border-radius: 0.25em;background-color: #f0f8ff;}#sk-container-id-1 input.sk-toggleable__control:checked~div.sk-toggleable__content {max-height: 200px;max-width: 100%;overflow: auto;}#sk-container-id-1 input.sk-toggleable__control:checked~label.sk-toggleable__label-arrow:before {content: \"▾\";}#sk-container-id-1 div.sk-estimator input.sk-toggleable__control:checked~label.sk-toggleable__label {background-color: #d4ebff;}#sk-container-id-1 div.sk-label input.sk-toggleable__control:checked~label.sk-toggleable__label {background-color: #d4ebff;}#sk-container-id-1 input.sk-hidden--visually {border: 0;clip: rect(1px 1px 1px 1px);clip: rect(1px, 1px, 1px, 1px);height: 1px;margin: -1px;overflow: hidden;padding: 0;position: absolute;width: 1px;}#sk-container-id-1 div.sk-estimator {font-family: monospace;background-color: #f0f8ff;border: 1px dotted black;border-radius: 0.25em;box-sizing: border-box;margin-bottom: 0.5em;}#sk-container-id-1 div.sk-estimator:hover {background-color: #d4ebff;}#sk-container-id-1 div.sk-parallel-item::after {content: \"\";width: 100%;border-bottom: 1px solid gray;flex-grow: 1;}#sk-container-id-1 div.sk-label:hover label.sk-toggleable__label {background-color: #d4ebff;}#sk-container-id-1 div.sk-serial::before {content: \"\";position: absolute;border-left: 1px solid gray;box-sizing: border-box;top: 0;bottom: 0;left: 50%;z-index: 0;}#sk-container-id-1 div.sk-serial {display: flex;flex-direction: column;align-items: center;background-color: white;padding-right: 0.2em;padding-left: 0.2em;position: relative;}#sk-container-id-1 div.sk-item {position: relative;z-index: 1;}#sk-container-id-1 div.sk-parallel {display: flex;align-items: stretch;justify-content: center;background-color: white;position: relative;}#sk-container-id-1 div.sk-item::before, #sk-container-id-1 div.sk-parallel-item::before {content: \"\";position: absolute;border-left: 1px solid gray;box-sizing: border-box;top: 0;bottom: 0;left: 50%;z-index: -1;}#sk-container-id-1 div.sk-parallel-item {display: flex;flex-direction: column;z-index: 1;position: relative;background-color: white;}#sk-container-id-1 div.sk-parallel-item:first-child::after {align-self: flex-end;width: 50%;}#sk-container-id-1 div.sk-parallel-item:last-child::after {align-self: flex-start;width: 50%;}#sk-container-id-1 div.sk-parallel-item:only-child::after {width: 0;}#sk-container-id-1 div.sk-dashed-wrapped {border: 1px dashed gray;margin: 0 0.4em 0.5em 0.4em;box-sizing: border-box;padding-bottom: 0.4em;background-color: white;}#sk-container-id-1 div.sk-label label {font-family: monospace;font-weight: bold;display: inline-block;line-height: 1.2em;}#sk-container-id-1 div.sk-label-container {text-align: center;}#sk-container-id-1 div.sk-container {/* jupyter's `normalize.less` sets `[hidden] { display: none; }` but bootstrap.min.css set `[hidden] { display: none !important; }` so we also need the `!important` here to be able to override the default hidden behavior on the sphinx rendered scikit-learn.org. See: https://github.com/scikit-learn/scikit-learn/issues/21755 */display: inline-block !important;position: relative;}#sk-container-id-1 div.sk-text-repr-fallback {display: none;}</style><div id=\"sk-container-id-1\" class=\"sk-top-container\"><div class=\"sk-text-repr-fallback\"><pre>DecisionTreeClassifier()</pre><b>In a Jupyter environment, please rerun this cell to show the HTML representation or trust the notebook. <br />On GitHub, the HTML representation is unable to render, please try loading this page with nbviewer.org.</b></div><div class=\"sk-container\" hidden><div class=\"sk-item\"><div class=\"sk-estimator sk-toggleable\"><input class=\"sk-toggleable__control sk-hidden--visually\" id=\"sk-estimator-id-1\" type=\"checkbox\" checked><label for=\"sk-estimator-id-1\" class=\"sk-toggleable__label sk-toggleable__label-arrow\">DecisionTreeClassifier</label><div class=\"sk-toggleable__content\"><pre>DecisionTreeClassifier()</pre></div></div></div></div></div>"
      ],
      "text/plain": [
       "DecisionTreeClassifier()"
      ]
     },
     "execution_count": 53,
     "metadata": {},
     "output_type": "execute_result"
    }
   ],
   "source": [
    "model1.fit(X_train, Y_train)"
   ]
  },
  {
   "cell_type": "code",
   "execution_count": 54,
   "id": "ccc90335",
   "metadata": {},
   "outputs": [
    {
     "data": {
      "text/html": [
       "<style>#sk-container-id-2 {color: black;}#sk-container-id-2 pre{padding: 0;}#sk-container-id-2 div.sk-toggleable {background-color: white;}#sk-container-id-2 label.sk-toggleable__label {cursor: pointer;display: block;width: 100%;margin-bottom: 0;padding: 0.3em;box-sizing: border-box;text-align: center;}#sk-container-id-2 label.sk-toggleable__label-arrow:before {content: \"▸\";float: left;margin-right: 0.25em;color: #696969;}#sk-container-id-2 label.sk-toggleable__label-arrow:hover:before {color: black;}#sk-container-id-2 div.sk-estimator:hover label.sk-toggleable__label-arrow:before {color: black;}#sk-container-id-2 div.sk-toggleable__content {max-height: 0;max-width: 0;overflow: hidden;text-align: left;background-color: #f0f8ff;}#sk-container-id-2 div.sk-toggleable__content pre {margin: 0.2em;color: black;border-radius: 0.25em;background-color: #f0f8ff;}#sk-container-id-2 input.sk-toggleable__control:checked~div.sk-toggleable__content {max-height: 200px;max-width: 100%;overflow: auto;}#sk-container-id-2 input.sk-toggleable__control:checked~label.sk-toggleable__label-arrow:before {content: \"▾\";}#sk-container-id-2 div.sk-estimator input.sk-toggleable__control:checked~label.sk-toggleable__label {background-color: #d4ebff;}#sk-container-id-2 div.sk-label input.sk-toggleable__control:checked~label.sk-toggleable__label {background-color: #d4ebff;}#sk-container-id-2 input.sk-hidden--visually {border: 0;clip: rect(1px 1px 1px 1px);clip: rect(1px, 1px, 1px, 1px);height: 1px;margin: -1px;overflow: hidden;padding: 0;position: absolute;width: 1px;}#sk-container-id-2 div.sk-estimator {font-family: monospace;background-color: #f0f8ff;border: 1px dotted black;border-radius: 0.25em;box-sizing: border-box;margin-bottom: 0.5em;}#sk-container-id-2 div.sk-estimator:hover {background-color: #d4ebff;}#sk-container-id-2 div.sk-parallel-item::after {content: \"\";width: 100%;border-bottom: 1px solid gray;flex-grow: 1;}#sk-container-id-2 div.sk-label:hover label.sk-toggleable__label {background-color: #d4ebff;}#sk-container-id-2 div.sk-serial::before {content: \"\";position: absolute;border-left: 1px solid gray;box-sizing: border-box;top: 0;bottom: 0;left: 50%;z-index: 0;}#sk-container-id-2 div.sk-serial {display: flex;flex-direction: column;align-items: center;background-color: white;padding-right: 0.2em;padding-left: 0.2em;position: relative;}#sk-container-id-2 div.sk-item {position: relative;z-index: 1;}#sk-container-id-2 div.sk-parallel {display: flex;align-items: stretch;justify-content: center;background-color: white;position: relative;}#sk-container-id-2 div.sk-item::before, #sk-container-id-2 div.sk-parallel-item::before {content: \"\";position: absolute;border-left: 1px solid gray;box-sizing: border-box;top: 0;bottom: 0;left: 50%;z-index: -1;}#sk-container-id-2 div.sk-parallel-item {display: flex;flex-direction: column;z-index: 1;position: relative;background-color: white;}#sk-container-id-2 div.sk-parallel-item:first-child::after {align-self: flex-end;width: 50%;}#sk-container-id-2 div.sk-parallel-item:last-child::after {align-self: flex-start;width: 50%;}#sk-container-id-2 div.sk-parallel-item:only-child::after {width: 0;}#sk-container-id-2 div.sk-dashed-wrapped {border: 1px dashed gray;margin: 0 0.4em 0.5em 0.4em;box-sizing: border-box;padding-bottom: 0.4em;background-color: white;}#sk-container-id-2 div.sk-label label {font-family: monospace;font-weight: bold;display: inline-block;line-height: 1.2em;}#sk-container-id-2 div.sk-label-container {text-align: center;}#sk-container-id-2 div.sk-container {/* jupyter's `normalize.less` sets `[hidden] { display: none; }` but bootstrap.min.css set `[hidden] { display: none !important; }` so we also need the `!important` here to be able to override the default hidden behavior on the sphinx rendered scikit-learn.org. See: https://github.com/scikit-learn/scikit-learn/issues/21755 */display: inline-block !important;position: relative;}#sk-container-id-2 div.sk-text-repr-fallback {display: none;}</style><div id=\"sk-container-id-2\" class=\"sk-top-container\"><div class=\"sk-text-repr-fallback\"><pre>RandomForestClassifier()</pre><b>In a Jupyter environment, please rerun this cell to show the HTML representation or trust the notebook. <br />On GitHub, the HTML representation is unable to render, please try loading this page with nbviewer.org.</b></div><div class=\"sk-container\" hidden><div class=\"sk-item\"><div class=\"sk-estimator sk-toggleable\"><input class=\"sk-toggleable__control sk-hidden--visually\" id=\"sk-estimator-id-2\" type=\"checkbox\" checked><label for=\"sk-estimator-id-2\" class=\"sk-toggleable__label sk-toggleable__label-arrow\">RandomForestClassifier</label><div class=\"sk-toggleable__content\"><pre>RandomForestClassifier()</pre></div></div></div></div></div>"
      ],
      "text/plain": [
       "RandomForestClassifier()"
      ]
     },
     "execution_count": 54,
     "metadata": {},
     "output_type": "execute_result"
    }
   ],
   "source": [
    "model2.fit(X_train, Y_train)"
   ]
  },
  {
   "cell_type": "code",
   "execution_count": 55,
   "id": "18117a4c",
   "metadata": {},
   "outputs": [
    {
     "data": {
      "text/html": [
       "<style>#sk-container-id-3 {color: black;}#sk-container-id-3 pre{padding: 0;}#sk-container-id-3 div.sk-toggleable {background-color: white;}#sk-container-id-3 label.sk-toggleable__label {cursor: pointer;display: block;width: 100%;margin-bottom: 0;padding: 0.3em;box-sizing: border-box;text-align: center;}#sk-container-id-3 label.sk-toggleable__label-arrow:before {content: \"▸\";float: left;margin-right: 0.25em;color: #696969;}#sk-container-id-3 label.sk-toggleable__label-arrow:hover:before {color: black;}#sk-container-id-3 div.sk-estimator:hover label.sk-toggleable__label-arrow:before {color: black;}#sk-container-id-3 div.sk-toggleable__content {max-height: 0;max-width: 0;overflow: hidden;text-align: left;background-color: #f0f8ff;}#sk-container-id-3 div.sk-toggleable__content pre {margin: 0.2em;color: black;border-radius: 0.25em;background-color: #f0f8ff;}#sk-container-id-3 input.sk-toggleable__control:checked~div.sk-toggleable__content {max-height: 200px;max-width: 100%;overflow: auto;}#sk-container-id-3 input.sk-toggleable__control:checked~label.sk-toggleable__label-arrow:before {content: \"▾\";}#sk-container-id-3 div.sk-estimator input.sk-toggleable__control:checked~label.sk-toggleable__label {background-color: #d4ebff;}#sk-container-id-3 div.sk-label input.sk-toggleable__control:checked~label.sk-toggleable__label {background-color: #d4ebff;}#sk-container-id-3 input.sk-hidden--visually {border: 0;clip: rect(1px 1px 1px 1px);clip: rect(1px, 1px, 1px, 1px);height: 1px;margin: -1px;overflow: hidden;padding: 0;position: absolute;width: 1px;}#sk-container-id-3 div.sk-estimator {font-family: monospace;background-color: #f0f8ff;border: 1px dotted black;border-radius: 0.25em;box-sizing: border-box;margin-bottom: 0.5em;}#sk-container-id-3 div.sk-estimator:hover {background-color: #d4ebff;}#sk-container-id-3 div.sk-parallel-item::after {content: \"\";width: 100%;border-bottom: 1px solid gray;flex-grow: 1;}#sk-container-id-3 div.sk-label:hover label.sk-toggleable__label {background-color: #d4ebff;}#sk-container-id-3 div.sk-serial::before {content: \"\";position: absolute;border-left: 1px solid gray;box-sizing: border-box;top: 0;bottom: 0;left: 50%;z-index: 0;}#sk-container-id-3 div.sk-serial {display: flex;flex-direction: column;align-items: center;background-color: white;padding-right: 0.2em;padding-left: 0.2em;position: relative;}#sk-container-id-3 div.sk-item {position: relative;z-index: 1;}#sk-container-id-3 div.sk-parallel {display: flex;align-items: stretch;justify-content: center;background-color: white;position: relative;}#sk-container-id-3 div.sk-item::before, #sk-container-id-3 div.sk-parallel-item::before {content: \"\";position: absolute;border-left: 1px solid gray;box-sizing: border-box;top: 0;bottom: 0;left: 50%;z-index: -1;}#sk-container-id-3 div.sk-parallel-item {display: flex;flex-direction: column;z-index: 1;position: relative;background-color: white;}#sk-container-id-3 div.sk-parallel-item:first-child::after {align-self: flex-end;width: 50%;}#sk-container-id-3 div.sk-parallel-item:last-child::after {align-self: flex-start;width: 50%;}#sk-container-id-3 div.sk-parallel-item:only-child::after {width: 0;}#sk-container-id-3 div.sk-dashed-wrapped {border: 1px dashed gray;margin: 0 0.4em 0.5em 0.4em;box-sizing: border-box;padding-bottom: 0.4em;background-color: white;}#sk-container-id-3 div.sk-label label {font-family: monospace;font-weight: bold;display: inline-block;line-height: 1.2em;}#sk-container-id-3 div.sk-label-container {text-align: center;}#sk-container-id-3 div.sk-container {/* jupyter's `normalize.less` sets `[hidden] { display: none; }` but bootstrap.min.css set `[hidden] { display: none !important; }` so we also need the `!important` here to be able to override the default hidden behavior on the sphinx rendered scikit-learn.org. See: https://github.com/scikit-learn/scikit-learn/issues/21755 */display: inline-block !important;position: relative;}#sk-container-id-3 div.sk-text-repr-fallback {display: none;}</style><div id=\"sk-container-id-3\" class=\"sk-top-container\"><div class=\"sk-text-repr-fallback\"><pre>MLPClassifier()</pre><b>In a Jupyter environment, please rerun this cell to show the HTML representation or trust the notebook. <br />On GitHub, the HTML representation is unable to render, please try loading this page with nbviewer.org.</b></div><div class=\"sk-container\" hidden><div class=\"sk-item\"><div class=\"sk-estimator sk-toggleable\"><input class=\"sk-toggleable__control sk-hidden--visually\" id=\"sk-estimator-id-3\" type=\"checkbox\" checked><label for=\"sk-estimator-id-3\" class=\"sk-toggleable__label sk-toggleable__label-arrow\">MLPClassifier</label><div class=\"sk-toggleable__content\"><pre>MLPClassifier()</pre></div></div></div></div></div>"
      ],
      "text/plain": [
       "MLPClassifier()"
      ]
     },
     "execution_count": 55,
     "metadata": {},
     "output_type": "execute_result"
    }
   ],
   "source": [
    "model3.fit(X_train, Y_train)"
   ]
  },
  {
   "cell_type": "code",
   "execution_count": 56,
   "id": "c9024fe7",
   "metadata": {},
   "outputs": [],
   "source": [
    "y_pred1=model1.predict(x_test)"
   ]
  },
  {
   "cell_type": "code",
   "execution_count": 57,
   "id": "289659ff",
   "metadata": {},
   "outputs": [],
   "source": [
    "y_pred2=model2.predict(x_test)"
   ]
  },
  {
   "cell_type": "code",
   "execution_count": 58,
   "id": "939b719f",
   "metadata": {},
   "outputs": [],
   "source": [
    "y_pred3=model3.predict(x_test)"
   ]
  },
  {
   "cell_type": "markdown",
   "id": "25cf1f55",
   "metadata": {},
   "source": [
    "Una vez hechas las predicciones de los modelos, vamos a definir una función que nos permita valorar el mejor modelo"
   ]
  },
  {
   "cell_type": "code",
   "execution_count": 59,
   "id": "c8be19c6",
   "metadata": {},
   "outputs": [],
   "source": [
    "def saca_metricas(y_true, y_pred):\n",
    "    # Matriz de confusión\n",
    "    print('Matriz de Confusión:')\n",
    "    print(confusion_matrix(y_true, y_pred))\n",
    "    \n",
    "    # Accuracy\n",
    "    print('\\nAccuracy:')\n",
    "    print(accuracy_score(y_true, y_pred))\n",
    "    \n",
    "    # Precision (macro)\n",
    "    print('\\nPrecision (macro):')\n",
    "    print(precision_score(y_true, y_pred, average='macro'))\n",
    "    \n",
    "    # Recall (macro)\n",
    "    print('\\nRecall (macro):')\n",
    "    print(recall_score(y_true, y_pred, average='macro'))\n",
    "    \n",
    "    # F1-Score (macro)\n",
    "    print('\\nF1-Score (macro):')\n",
    "    print(f1_score(y_true, y_pred, average='macro'))\n",
    "    \n",
    "    \n",
    "  "
   ]
  },
  {
   "cell_type": "code",
   "execution_count": 60,
   "id": "8f4f1ec0",
   "metadata": {},
   "outputs": [
    {
     "name": "stdout",
     "output_type": "stream",
     "text": [
      "Matriz de Confusión:\n",
      "[[4327 1174  205]\n",
      " [1147 6430  488]\n",
      " [ 180  509  390]]\n",
      "\n",
      "Accuracy:\n",
      "0.7506397306397307\n",
      "\n",
      "Precision (macro):\n",
      "0.6393216217143571\n",
      "\n",
      "Recall (macro):\n",
      "0.6390141724767066\n",
      "\n",
      "F1-Score (macro):\n",
      "0.6391598320990889\n"
     ]
    }
   ],
   "source": [
    "saca_metricas(y_test, y_pred1)"
   ]
  },
  {
   "cell_type": "code",
   "execution_count": 61,
   "id": "ac14b868",
   "metadata": {},
   "outputs": [
    {
     "name": "stdout",
     "output_type": "stream",
     "text": [
      "Matriz de Confusión:\n",
      "[[4457 1136  113]\n",
      " [ 766 7042  257]\n",
      " [ 146  559  374]]\n",
      "\n",
      "Accuracy:\n",
      "0.7995286195286195\n",
      "\n",
      "Precision (macro):\n",
      "0.7129405399151381\n",
      "\n",
      "Recall (macro):\n",
      "0.6669601516252017\n",
      "\n",
      "F1-Score (macro):\n",
      "0.6844740205158742\n"
     ]
    }
   ],
   "source": [
    "saca_metricas(y_test, y_pred2)"
   ]
  },
  {
   "cell_type": "code",
   "execution_count": 62,
   "id": "ac918a43",
   "metadata": {},
   "outputs": [
    {
     "name": "stdout",
     "output_type": "stream",
     "text": [
      "Matriz de Confusión:\n",
      "[[5055  610   41]\n",
      " [4443 3497  125]\n",
      " [ 722  255  102]]\n",
      "\n",
      "Accuracy:\n",
      "0.5827609427609428\n",
      "\n",
      "Precision (macro):\n",
      "0.5589706265793665\n",
      "\n",
      "Recall (macro):\n",
      "0.4713478422686273\n",
      "\n",
      "F1-Score (macro):\n",
      "0.4496884846707709\n"
     ]
    }
   ],
   "source": [
    "saca_metricas(y_test, y_pred3)"
   ]
  },
  {
   "cell_type": "markdown",
   "id": "5a580f3b",
   "metadata": {},
   "source": [
    "Tras el estudio se ha determinado que aquellas que nos da mejores resultados es el modelo número 2 osea, random_forest.\n",
    "A continuación se estudiará que parámetros son los mejores para obtener el mejor resultado posible en el modelo."
   ]
  },
  {
   "cell_type": "code",
   "execution_count": 63,
   "id": "49413a79",
   "metadata": {},
   "outputs": [],
   "source": [
    "grid_param = {\n",
    "    'n_estimators': [500, 1000],\n",
    "    'criterion': ['gini', 'entropy'],\n",
    "    'bootstrap': [True, False],\n",
    "    'max_depth': [20,22],\n",
    "    \"max_features\": ['auto', 'sqrt'],\n",
    "    'min_samples_split': [2, 5],\n",
    "}"
   ]
  },
  {
   "cell_type": "code",
   "execution_count": 64,
   "id": "58a9ebd7",
   "metadata": {},
   "outputs": [],
   "source": [
    "model_grid = GridSearchCV(estimator=model2,\n",
    "                     param_grid=grid_param,\n",
    "                     scoring='accuracy',\n",
    "                     cv=3,\n",
    "                     n_jobs=-1, \n",
    "                        )"
   ]
  },
  {
   "cell_type": "code",
   "execution_count": 65,
   "id": "15921491",
   "metadata": {},
   "outputs": [
    {
     "name": "stderr",
     "output_type": "stream",
     "text": [
      "C:\\Users\\anais\\anaconda3\\envs\\MasterDataScience\\lib\\site-packages\\sklearn\\model_selection\\_validation.py:425: FitFailedWarning: \n",
      "96 fits failed out of a total of 192.\n",
      "The score on these train-test partitions for these parameters will be set to nan.\n",
      "If these failures are not expected, you can try to debug them by setting error_score='raise'.\n",
      "\n",
      "Below are more details about the failures:\n",
      "--------------------------------------------------------------------------------\n",
      "56 fits failed with the following error:\n",
      "Traceback (most recent call last):\n",
      "  File \"C:\\Users\\anais\\anaconda3\\envs\\MasterDataScience\\lib\\site-packages\\sklearn\\model_selection\\_validation.py\", line 732, in _fit_and_score\n",
      "    estimator.fit(X_train, y_train, **fit_params)\n",
      "  File \"C:\\Users\\anais\\anaconda3\\envs\\MasterDataScience\\lib\\site-packages\\sklearn\\base.py\", line 1144, in wrapper\n",
      "    estimator._validate_params()\n",
      "  File \"C:\\Users\\anais\\anaconda3\\envs\\MasterDataScience\\lib\\site-packages\\sklearn\\base.py\", line 637, in _validate_params\n",
      "    validate_parameter_constraints(\n",
      "  File \"C:\\Users\\anais\\anaconda3\\envs\\MasterDataScience\\lib\\site-packages\\sklearn\\utils\\_param_validation.py\", line 95, in validate_parameter_constraints\n",
      "    raise InvalidParameterError(\n",
      "sklearn.utils._param_validation.InvalidParameterError: The 'max_features' parameter of RandomForestClassifier must be an int in the range [1, inf), a float in the range (0.0, 1.0], a str among {'sqrt', 'log2'} or None. Got 'auto' instead.\n",
      "\n",
      "--------------------------------------------------------------------------------\n",
      "40 fits failed with the following error:\n",
      "Traceback (most recent call last):\n",
      "  File \"C:\\Users\\anais\\anaconda3\\envs\\MasterDataScience\\lib\\site-packages\\sklearn\\model_selection\\_validation.py\", line 732, in _fit_and_score\n",
      "    estimator.fit(X_train, y_train, **fit_params)\n",
      "  File \"C:\\Users\\anais\\anaconda3\\envs\\MasterDataScience\\lib\\site-packages\\sklearn\\base.py\", line 1144, in wrapper\n",
      "    estimator._validate_params()\n",
      "  File \"C:\\Users\\anais\\anaconda3\\envs\\MasterDataScience\\lib\\site-packages\\sklearn\\base.py\", line 637, in _validate_params\n",
      "    validate_parameter_constraints(\n",
      "  File \"C:\\Users\\anais\\anaconda3\\envs\\MasterDataScience\\lib\\site-packages\\sklearn\\utils\\_param_validation.py\", line 95, in validate_parameter_constraints\n",
      "    raise InvalidParameterError(\n",
      "sklearn.utils._param_validation.InvalidParameterError: The 'max_features' parameter of RandomForestClassifier must be an int in the range [1, inf), a float in the range (0.0, 1.0], a str among {'log2', 'sqrt'} or None. Got 'auto' instead.\n",
      "\n",
      "  warnings.warn(some_fits_failed_message, FitFailedWarning)\n",
      "C:\\Users\\anais\\anaconda3\\envs\\MasterDataScience\\lib\\site-packages\\sklearn\\model_selection\\_search.py:976: UserWarning: One or more of the test scores are non-finite: [       nan        nan        nan        nan 0.80188552 0.8020202\n",
      " 0.80347924 0.80296296        nan        nan        nan        nan\n",
      " 0.80049383 0.80116723 0.80386083 0.8037486         nan        nan\n",
      "        nan        nan 0.80289562 0.80166105 0.80379349 0.80417508\n",
      "        nan        nan        nan        nan 0.80103255 0.80141414\n",
      " 0.80406285 0.8037037         nan        nan        nan        nan\n",
      " 0.79809203 0.79815937 0.8020651  0.80255892        nan        nan\n",
      "        nan        nan 0.79609428 0.79564534 0.80112233 0.80177329\n",
      "        nan        nan        nan        nan 0.79872054 0.79789001\n",
      " 0.80161616 0.80179574        nan        nan        nan        nan\n",
      " 0.79503928 0.79445567 0.80006734 0.80056117]\n",
      "  warnings.warn(\n"
     ]
    },
    {
     "data": {
      "text/html": [
       "<style>#sk-container-id-4 {color: black;}#sk-container-id-4 pre{padding: 0;}#sk-container-id-4 div.sk-toggleable {background-color: white;}#sk-container-id-4 label.sk-toggleable__label {cursor: pointer;display: block;width: 100%;margin-bottom: 0;padding: 0.3em;box-sizing: border-box;text-align: center;}#sk-container-id-4 label.sk-toggleable__label-arrow:before {content: \"▸\";float: left;margin-right: 0.25em;color: #696969;}#sk-container-id-4 label.sk-toggleable__label-arrow:hover:before {color: black;}#sk-container-id-4 div.sk-estimator:hover label.sk-toggleable__label-arrow:before {color: black;}#sk-container-id-4 div.sk-toggleable__content {max-height: 0;max-width: 0;overflow: hidden;text-align: left;background-color: #f0f8ff;}#sk-container-id-4 div.sk-toggleable__content pre {margin: 0.2em;color: black;border-radius: 0.25em;background-color: #f0f8ff;}#sk-container-id-4 input.sk-toggleable__control:checked~div.sk-toggleable__content {max-height: 200px;max-width: 100%;overflow: auto;}#sk-container-id-4 input.sk-toggleable__control:checked~label.sk-toggleable__label-arrow:before {content: \"▾\";}#sk-container-id-4 div.sk-estimator input.sk-toggleable__control:checked~label.sk-toggleable__label {background-color: #d4ebff;}#sk-container-id-4 div.sk-label input.sk-toggleable__control:checked~label.sk-toggleable__label {background-color: #d4ebff;}#sk-container-id-4 input.sk-hidden--visually {border: 0;clip: rect(1px 1px 1px 1px);clip: rect(1px, 1px, 1px, 1px);height: 1px;margin: -1px;overflow: hidden;padding: 0;position: absolute;width: 1px;}#sk-container-id-4 div.sk-estimator {font-family: monospace;background-color: #f0f8ff;border: 1px dotted black;border-radius: 0.25em;box-sizing: border-box;margin-bottom: 0.5em;}#sk-container-id-4 div.sk-estimator:hover {background-color: #d4ebff;}#sk-container-id-4 div.sk-parallel-item::after {content: \"\";width: 100%;border-bottom: 1px solid gray;flex-grow: 1;}#sk-container-id-4 div.sk-label:hover label.sk-toggleable__label {background-color: #d4ebff;}#sk-container-id-4 div.sk-serial::before {content: \"\";position: absolute;border-left: 1px solid gray;box-sizing: border-box;top: 0;bottom: 0;left: 50%;z-index: 0;}#sk-container-id-4 div.sk-serial {display: flex;flex-direction: column;align-items: center;background-color: white;padding-right: 0.2em;padding-left: 0.2em;position: relative;}#sk-container-id-4 div.sk-item {position: relative;z-index: 1;}#sk-container-id-4 div.sk-parallel {display: flex;align-items: stretch;justify-content: center;background-color: white;position: relative;}#sk-container-id-4 div.sk-item::before, #sk-container-id-4 div.sk-parallel-item::before {content: \"\";position: absolute;border-left: 1px solid gray;box-sizing: border-box;top: 0;bottom: 0;left: 50%;z-index: -1;}#sk-container-id-4 div.sk-parallel-item {display: flex;flex-direction: column;z-index: 1;position: relative;background-color: white;}#sk-container-id-4 div.sk-parallel-item:first-child::after {align-self: flex-end;width: 50%;}#sk-container-id-4 div.sk-parallel-item:last-child::after {align-self: flex-start;width: 50%;}#sk-container-id-4 div.sk-parallel-item:only-child::after {width: 0;}#sk-container-id-4 div.sk-dashed-wrapped {border: 1px dashed gray;margin: 0 0.4em 0.5em 0.4em;box-sizing: border-box;padding-bottom: 0.4em;background-color: white;}#sk-container-id-4 div.sk-label label {font-family: monospace;font-weight: bold;display: inline-block;line-height: 1.2em;}#sk-container-id-4 div.sk-label-container {text-align: center;}#sk-container-id-4 div.sk-container {/* jupyter's `normalize.less` sets `[hidden] { display: none; }` but bootstrap.min.css set `[hidden] { display: none !important; }` so we also need the `!important` here to be able to override the default hidden behavior on the sphinx rendered scikit-learn.org. See: https://github.com/scikit-learn/scikit-learn/issues/21755 */display: inline-block !important;position: relative;}#sk-container-id-4 div.sk-text-repr-fallback {display: none;}</style><div id=\"sk-container-id-4\" class=\"sk-top-container\"><div class=\"sk-text-repr-fallback\"><pre>GridSearchCV(cv=3, estimator=RandomForestClassifier(), n_jobs=-1,\n",
       "             param_grid={&#x27;bootstrap&#x27;: [True, False],\n",
       "                         &#x27;criterion&#x27;: [&#x27;gini&#x27;, &#x27;entropy&#x27;],\n",
       "                         &#x27;max_depth&#x27;: [20, 22],\n",
       "                         &#x27;max_features&#x27;: [&#x27;auto&#x27;, &#x27;sqrt&#x27;],\n",
       "                         &#x27;min_samples_split&#x27;: [2, 5],\n",
       "                         &#x27;n_estimators&#x27;: [500, 1000]},\n",
       "             scoring=&#x27;accuracy&#x27;)</pre><b>In a Jupyter environment, please rerun this cell to show the HTML representation or trust the notebook. <br />On GitHub, the HTML representation is unable to render, please try loading this page with nbviewer.org.</b></div><div class=\"sk-container\" hidden><div class=\"sk-item sk-dashed-wrapped\"><div class=\"sk-label-container\"><div class=\"sk-label sk-toggleable\"><input class=\"sk-toggleable__control sk-hidden--visually\" id=\"sk-estimator-id-4\" type=\"checkbox\" ><label for=\"sk-estimator-id-4\" class=\"sk-toggleable__label sk-toggleable__label-arrow\">GridSearchCV</label><div class=\"sk-toggleable__content\"><pre>GridSearchCV(cv=3, estimator=RandomForestClassifier(), n_jobs=-1,\n",
       "             param_grid={&#x27;bootstrap&#x27;: [True, False],\n",
       "                         &#x27;criterion&#x27;: [&#x27;gini&#x27;, &#x27;entropy&#x27;],\n",
       "                         &#x27;max_depth&#x27;: [20, 22],\n",
       "                         &#x27;max_features&#x27;: [&#x27;auto&#x27;, &#x27;sqrt&#x27;],\n",
       "                         &#x27;min_samples_split&#x27;: [2, 5],\n",
       "                         &#x27;n_estimators&#x27;: [500, 1000]},\n",
       "             scoring=&#x27;accuracy&#x27;)</pre></div></div></div><div class=\"sk-parallel\"><div class=\"sk-parallel-item\"><div class=\"sk-item\"><div class=\"sk-label-container\"><div class=\"sk-label sk-toggleable\"><input class=\"sk-toggleable__control sk-hidden--visually\" id=\"sk-estimator-id-5\" type=\"checkbox\" ><label for=\"sk-estimator-id-5\" class=\"sk-toggleable__label sk-toggleable__label-arrow\">estimator: RandomForestClassifier</label><div class=\"sk-toggleable__content\"><pre>RandomForestClassifier()</pre></div></div></div><div class=\"sk-serial\"><div class=\"sk-item\"><div class=\"sk-estimator sk-toggleable\"><input class=\"sk-toggleable__control sk-hidden--visually\" id=\"sk-estimator-id-6\" type=\"checkbox\" ><label for=\"sk-estimator-id-6\" class=\"sk-toggleable__label sk-toggleable__label-arrow\">RandomForestClassifier</label><div class=\"sk-toggleable__content\"><pre>RandomForestClassifier()</pre></div></div></div></div></div></div></div></div></div></div>"
      ],
      "text/plain": [
       "GridSearchCV(cv=3, estimator=RandomForestClassifier(), n_jobs=-1,\n",
       "             param_grid={'bootstrap': [True, False],\n",
       "                         'criterion': ['gini', 'entropy'],\n",
       "                         'max_depth': [20, 22],\n",
       "                         'max_features': ['auto', 'sqrt'],\n",
       "                         'min_samples_split': [2, 5],\n",
       "                         'n_estimators': [500, 1000]},\n",
       "             scoring='accuracy')"
      ]
     },
     "execution_count": 65,
     "metadata": {},
     "output_type": "execute_result"
    }
   ],
   "source": [
    "model_grid.fit(X_train, Y_train)"
   ]
  },
  {
   "cell_type": "code",
   "execution_count": 66,
   "id": "b7063928",
   "metadata": {},
   "outputs": [
    {
     "name": "stdout",
     "output_type": "stream",
     "text": [
      "{'bootstrap': True, 'criterion': 'entropy', 'max_depth': 20, 'max_features': 'sqrt', 'min_samples_split': 5, 'n_estimators': 1000}\n"
     ]
    }
   ],
   "source": [
    "print(model_grid.best_params_)"
   ]
  },
  {
   "cell_type": "markdown",
   "id": "ce1bf75b",
   "metadata": {},
   "source": [
    "Ya tenemos aquellos parámetros más eficientes, ahora vamos a definir el modelo con ellos:"
   ]
  },
  {
   "cell_type": "code",
   "execution_count": 67,
   "id": "34eaed83",
   "metadata": {},
   "outputs": [],
   "source": [
    "model2_mejorado=RandomForestClassifier(criterion='entropy',\n",
    "                                bootstrap= True, \n",
    "                                max_depth=20,\n",
    "                                max_features='sqrt',\n",
    "                                min_samples_split=5,\n",
    "                                n_estimators=1000,\n",
    "                                random_state=1)"
   ]
  },
  {
   "cell_type": "code",
   "execution_count": 68,
   "id": "536e4624",
   "metadata": {},
   "outputs": [
    {
     "data": {
      "text/html": [
       "<style>#sk-container-id-5 {color: black;}#sk-container-id-5 pre{padding: 0;}#sk-container-id-5 div.sk-toggleable {background-color: white;}#sk-container-id-5 label.sk-toggleable__label {cursor: pointer;display: block;width: 100%;margin-bottom: 0;padding: 0.3em;box-sizing: border-box;text-align: center;}#sk-container-id-5 label.sk-toggleable__label-arrow:before {content: \"▸\";float: left;margin-right: 0.25em;color: #696969;}#sk-container-id-5 label.sk-toggleable__label-arrow:hover:before {color: black;}#sk-container-id-5 div.sk-estimator:hover label.sk-toggleable__label-arrow:before {color: black;}#sk-container-id-5 div.sk-toggleable__content {max-height: 0;max-width: 0;overflow: hidden;text-align: left;background-color: #f0f8ff;}#sk-container-id-5 div.sk-toggleable__content pre {margin: 0.2em;color: black;border-radius: 0.25em;background-color: #f0f8ff;}#sk-container-id-5 input.sk-toggleable__control:checked~div.sk-toggleable__content {max-height: 200px;max-width: 100%;overflow: auto;}#sk-container-id-5 input.sk-toggleable__control:checked~label.sk-toggleable__label-arrow:before {content: \"▾\";}#sk-container-id-5 div.sk-estimator input.sk-toggleable__control:checked~label.sk-toggleable__label {background-color: #d4ebff;}#sk-container-id-5 div.sk-label input.sk-toggleable__control:checked~label.sk-toggleable__label {background-color: #d4ebff;}#sk-container-id-5 input.sk-hidden--visually {border: 0;clip: rect(1px 1px 1px 1px);clip: rect(1px, 1px, 1px, 1px);height: 1px;margin: -1px;overflow: hidden;padding: 0;position: absolute;width: 1px;}#sk-container-id-5 div.sk-estimator {font-family: monospace;background-color: #f0f8ff;border: 1px dotted black;border-radius: 0.25em;box-sizing: border-box;margin-bottom: 0.5em;}#sk-container-id-5 div.sk-estimator:hover {background-color: #d4ebff;}#sk-container-id-5 div.sk-parallel-item::after {content: \"\";width: 100%;border-bottom: 1px solid gray;flex-grow: 1;}#sk-container-id-5 div.sk-label:hover label.sk-toggleable__label {background-color: #d4ebff;}#sk-container-id-5 div.sk-serial::before {content: \"\";position: absolute;border-left: 1px solid gray;box-sizing: border-box;top: 0;bottom: 0;left: 50%;z-index: 0;}#sk-container-id-5 div.sk-serial {display: flex;flex-direction: column;align-items: center;background-color: white;padding-right: 0.2em;padding-left: 0.2em;position: relative;}#sk-container-id-5 div.sk-item {position: relative;z-index: 1;}#sk-container-id-5 div.sk-parallel {display: flex;align-items: stretch;justify-content: center;background-color: white;position: relative;}#sk-container-id-5 div.sk-item::before, #sk-container-id-5 div.sk-parallel-item::before {content: \"\";position: absolute;border-left: 1px solid gray;box-sizing: border-box;top: 0;bottom: 0;left: 50%;z-index: -1;}#sk-container-id-5 div.sk-parallel-item {display: flex;flex-direction: column;z-index: 1;position: relative;background-color: white;}#sk-container-id-5 div.sk-parallel-item:first-child::after {align-self: flex-end;width: 50%;}#sk-container-id-5 div.sk-parallel-item:last-child::after {align-self: flex-start;width: 50%;}#sk-container-id-5 div.sk-parallel-item:only-child::after {width: 0;}#sk-container-id-5 div.sk-dashed-wrapped {border: 1px dashed gray;margin: 0 0.4em 0.5em 0.4em;box-sizing: border-box;padding-bottom: 0.4em;background-color: white;}#sk-container-id-5 div.sk-label label {font-family: monospace;font-weight: bold;display: inline-block;line-height: 1.2em;}#sk-container-id-5 div.sk-label-container {text-align: center;}#sk-container-id-5 div.sk-container {/* jupyter's `normalize.less` sets `[hidden] { display: none; }` but bootstrap.min.css set `[hidden] { display: none !important; }` so we also need the `!important` here to be able to override the default hidden behavior on the sphinx rendered scikit-learn.org. See: https://github.com/scikit-learn/scikit-learn/issues/21755 */display: inline-block !important;position: relative;}#sk-container-id-5 div.sk-text-repr-fallback {display: none;}</style><div id=\"sk-container-id-5\" class=\"sk-top-container\"><div class=\"sk-text-repr-fallback\"><pre>RandomForestClassifier(criterion=&#x27;entropy&#x27;, max_depth=20, min_samples_split=5,\n",
       "                       n_estimators=1000, random_state=1)</pre><b>In a Jupyter environment, please rerun this cell to show the HTML representation or trust the notebook. <br />On GitHub, the HTML representation is unable to render, please try loading this page with nbviewer.org.</b></div><div class=\"sk-container\" hidden><div class=\"sk-item\"><div class=\"sk-estimator sk-toggleable\"><input class=\"sk-toggleable__control sk-hidden--visually\" id=\"sk-estimator-id-7\" type=\"checkbox\" checked><label for=\"sk-estimator-id-7\" class=\"sk-toggleable__label sk-toggleable__label-arrow\">RandomForestClassifier</label><div class=\"sk-toggleable__content\"><pre>RandomForestClassifier(criterion=&#x27;entropy&#x27;, max_depth=20, min_samples_split=5,\n",
       "                       n_estimators=1000, random_state=1)</pre></div></div></div></div></div>"
      ],
      "text/plain": [
       "RandomForestClassifier(criterion='entropy', max_depth=20, min_samples_split=5,\n",
       "                       n_estimators=1000, random_state=1)"
      ]
     },
     "execution_count": 68,
     "metadata": {},
     "output_type": "execute_result"
    }
   ],
   "source": [
    "model2_mejorado.fit(X_train, Y_train)"
   ]
  },
  {
   "cell_type": "code",
   "execution_count": 69,
   "id": "634233cb",
   "metadata": {},
   "outputs": [],
   "source": [
    "y_pred=model2_mejorado.predict(x_test)"
   ]
  },
  {
   "cell_type": "code",
   "execution_count": 70,
   "id": "8e28ed25",
   "metadata": {},
   "outputs": [
    {
     "name": "stdout",
     "output_type": "stream",
     "text": [
      "Matriz de Confusión:\n",
      "[[4273 1372   61]\n",
      " [ 564 7382  119]\n",
      " [ 135  642  302]]\n",
      "\n",
      "Accuracy:\n",
      "0.8051851851851852\n",
      "\n",
      "Precision (macro):\n",
      "0.7572073991138829\n",
      "\n",
      "Recall (macro):\n",
      "0.6480209051193142\n",
      "\n",
      "F1-Score (macro):\n",
      "0.6776033628172701\n"
     ]
    }
   ],
   "source": [
    "saca_metricas(y_test, y_pred)"
   ]
  },
  {
   "cell_type": "markdown",
   "id": "f26b5776",
   "metadata": {},
   "source": [
    "Ya tenemos un modelo bastante competitivo. Por lo visto, el modelo se confunde bastante con la categoría 1 y 2. Esto es completamente normal pues tenemos muchos más datos provenientes de esa categoría que de la segunda.\n",
    "\n",
    "Utilizamos la validación cruzada repetida a fin de ver si el modelo no está sobreajustado. Sacaremos una media de todos los accuraccy para hacernos una idea de la fuerza predictiva real."
   ]
  },
  {
   "cell_type": "code",
   "execution_count": 71,
   "id": "3108818c",
   "metadata": {},
   "outputs": [],
   "source": [
    "rkf = RepeatedKFold(n_splits=5, n_repeats=3, random_state=42)"
   ]
  },
  {
   "cell_type": "code",
   "execution_count": 72,
   "id": "02b587fb",
   "metadata": {},
   "outputs": [
    {
     "name": "stdout",
     "output_type": "stream",
     "text": [
      "Precisión promedio: 0.805185185185185\n"
     ]
    }
   ],
   "source": [
    "accuracy_scores = []\n",
    "for train_index, test_index in rkf.split(data):\n",
    "    model2_mejorado.fit(X_train, Y_train)\n",
    "    \n",
    "    # Realizar predicciones en el conjunto de prueba\n",
    "    y_pred = model2_mejorado.predict(x_test)\n",
    "    \n",
    "    # Calcular el puntaje de precisión y guardarlo en la lista\n",
    "    accuracy = accuracy_score(y_test, y_pred)\n",
    "    accuracy_scores.append(accuracy)\n",
    "\n",
    "# Calcular la precisión promedio sobre todas las repeticiones\n",
    "average_accuracy = np.mean(accuracy_scores)\n",
    "print(\"Precisión promedio:\", average_accuracy)"
   ]
  },
  {
   "cell_type": "markdown",
   "id": "c7409e2e",
   "metadata": {},
   "source": [
    "Igualmente, se ha optado por manipular los parámetros de forma manual buscando obtener mejor resultado en base al modelo anterior. Después se ha vuelto a calcular la validación cruzada repetida:"
   ]
  },
  {
   "cell_type": "code",
   "execution_count": 116,
   "id": "d285ec86",
   "metadata": {},
   "outputs": [],
   "source": [
    "model3_mejorado=RandomForestClassifier(criterion='gini',\n",
    "                                bootstrap= True, \n",
    "                                max_depth=25,\n",
    "                                max_features='sqrt',\n",
    "                                min_samples_split=6,\n",
    "                                n_estimators=1000,\n",
    "                                random_state=1)"
   ]
  },
  {
   "cell_type": "code",
   "execution_count": 117,
   "id": "f7ed6569",
   "metadata": {},
   "outputs": [
    {
     "data": {
      "text/html": [
       "<style>#sk-container-id-17 {color: black;}#sk-container-id-17 pre{padding: 0;}#sk-container-id-17 div.sk-toggleable {background-color: white;}#sk-container-id-17 label.sk-toggleable__label {cursor: pointer;display: block;width: 100%;margin-bottom: 0;padding: 0.3em;box-sizing: border-box;text-align: center;}#sk-container-id-17 label.sk-toggleable__label-arrow:before {content: \"▸\";float: left;margin-right: 0.25em;color: #696969;}#sk-container-id-17 label.sk-toggleable__label-arrow:hover:before {color: black;}#sk-container-id-17 div.sk-estimator:hover label.sk-toggleable__label-arrow:before {color: black;}#sk-container-id-17 div.sk-toggleable__content {max-height: 0;max-width: 0;overflow: hidden;text-align: left;background-color: #f0f8ff;}#sk-container-id-17 div.sk-toggleable__content pre {margin: 0.2em;color: black;border-radius: 0.25em;background-color: #f0f8ff;}#sk-container-id-17 input.sk-toggleable__control:checked~div.sk-toggleable__content {max-height: 200px;max-width: 100%;overflow: auto;}#sk-container-id-17 input.sk-toggleable__control:checked~label.sk-toggleable__label-arrow:before {content: \"▾\";}#sk-container-id-17 div.sk-estimator input.sk-toggleable__control:checked~label.sk-toggleable__label {background-color: #d4ebff;}#sk-container-id-17 div.sk-label input.sk-toggleable__control:checked~label.sk-toggleable__label {background-color: #d4ebff;}#sk-container-id-17 input.sk-hidden--visually {border: 0;clip: rect(1px 1px 1px 1px);clip: rect(1px, 1px, 1px, 1px);height: 1px;margin: -1px;overflow: hidden;padding: 0;position: absolute;width: 1px;}#sk-container-id-17 div.sk-estimator {font-family: monospace;background-color: #f0f8ff;border: 1px dotted black;border-radius: 0.25em;box-sizing: border-box;margin-bottom: 0.5em;}#sk-container-id-17 div.sk-estimator:hover {background-color: #d4ebff;}#sk-container-id-17 div.sk-parallel-item::after {content: \"\";width: 100%;border-bottom: 1px solid gray;flex-grow: 1;}#sk-container-id-17 div.sk-label:hover label.sk-toggleable__label {background-color: #d4ebff;}#sk-container-id-17 div.sk-serial::before {content: \"\";position: absolute;border-left: 1px solid gray;box-sizing: border-box;top: 0;bottom: 0;left: 50%;z-index: 0;}#sk-container-id-17 div.sk-serial {display: flex;flex-direction: column;align-items: center;background-color: white;padding-right: 0.2em;padding-left: 0.2em;position: relative;}#sk-container-id-17 div.sk-item {position: relative;z-index: 1;}#sk-container-id-17 div.sk-parallel {display: flex;align-items: stretch;justify-content: center;background-color: white;position: relative;}#sk-container-id-17 div.sk-item::before, #sk-container-id-17 div.sk-parallel-item::before {content: \"\";position: absolute;border-left: 1px solid gray;box-sizing: border-box;top: 0;bottom: 0;left: 50%;z-index: -1;}#sk-container-id-17 div.sk-parallel-item {display: flex;flex-direction: column;z-index: 1;position: relative;background-color: white;}#sk-container-id-17 div.sk-parallel-item:first-child::after {align-self: flex-end;width: 50%;}#sk-container-id-17 div.sk-parallel-item:last-child::after {align-self: flex-start;width: 50%;}#sk-container-id-17 div.sk-parallel-item:only-child::after {width: 0;}#sk-container-id-17 div.sk-dashed-wrapped {border: 1px dashed gray;margin: 0 0.4em 0.5em 0.4em;box-sizing: border-box;padding-bottom: 0.4em;background-color: white;}#sk-container-id-17 div.sk-label label {font-family: monospace;font-weight: bold;display: inline-block;line-height: 1.2em;}#sk-container-id-17 div.sk-label-container {text-align: center;}#sk-container-id-17 div.sk-container {/* jupyter's `normalize.less` sets `[hidden] { display: none; }` but bootstrap.min.css set `[hidden] { display: none !important; }` so we also need the `!important` here to be able to override the default hidden behavior on the sphinx rendered scikit-learn.org. See: https://github.com/scikit-learn/scikit-learn/issues/21755 */display: inline-block !important;position: relative;}#sk-container-id-17 div.sk-text-repr-fallback {display: none;}</style><div id=\"sk-container-id-17\" class=\"sk-top-container\"><div class=\"sk-text-repr-fallback\"><pre>RandomForestClassifier(max_depth=25, min_samples_split=6, n_estimators=1000,\n",
       "                       random_state=1)</pre><b>In a Jupyter environment, please rerun this cell to show the HTML representation or trust the notebook. <br />On GitHub, the HTML representation is unable to render, please try loading this page with nbviewer.org.</b></div><div class=\"sk-container\" hidden><div class=\"sk-item\"><div class=\"sk-estimator sk-toggleable\"><input class=\"sk-toggleable__control sk-hidden--visually\" id=\"sk-estimator-id-19\" type=\"checkbox\" checked><label for=\"sk-estimator-id-19\" class=\"sk-toggleable__label sk-toggleable__label-arrow\">RandomForestClassifier</label><div class=\"sk-toggleable__content\"><pre>RandomForestClassifier(max_depth=25, min_samples_split=6, n_estimators=1000,\n",
       "                       random_state=1)</pre></div></div></div></div></div>"
      ],
      "text/plain": [
       "RandomForestClassifier(max_depth=25, min_samples_split=6, n_estimators=1000,\n",
       "                       random_state=1)"
      ]
     },
     "execution_count": 117,
     "metadata": {},
     "output_type": "execute_result"
    }
   ],
   "source": [
    "model3_mejorado.fit(X_train, Y_train)"
   ]
  },
  {
   "cell_type": "code",
   "execution_count": 118,
   "id": "1cad565c",
   "metadata": {},
   "outputs": [],
   "source": [
    "y_pred=model3_mejorado.predict(x_test)"
   ]
  },
  {
   "cell_type": "code",
   "execution_count": 119,
   "id": "adf7cca4",
   "metadata": {},
   "outputs": [
    {
     "name": "stdout",
     "output_type": "stream",
     "text": [
      "Matriz de Confusión:\n",
      "[[4370 1264   72]\n",
      " [ 627 7290  148]\n",
      " [ 142  609  328]]\n",
      "\n",
      "Accuracy:\n",
      "0.8072727272727273\n",
      "\n",
      "Precision (macro):\n",
      "0.7481637006199922\n",
      "\n",
      "Recall (macro):\n",
      "0.6579171449436028\n",
      "\n",
      "F1-Score (macro):\n",
      "0.6851313765536955\n"
     ]
    }
   ],
   "source": [
    "saca_metricas(y_test, y_pred)"
   ]
  },
  {
   "cell_type": "code",
   "execution_count": 122,
   "id": "a9aab764",
   "metadata": {},
   "outputs": [
    {
     "name": "stdout",
     "output_type": "stream",
     "text": [
      "Precisión promedio: 0.807272727272727\n"
     ]
    }
   ],
   "source": [
    "accuracy_scores = []\n",
    "for train_index, test_index in rkf.split(data):\n",
    "    model3_mejorado.fit(X_train, Y_train)\n",
    "    \n",
    "    # Realizar predicciones en el conjunto de prueba\n",
    "    y_pred = model3_mejorado.predict(x_test)\n",
    "    \n",
    "    # Calcular el puntaje de precisión y guardarlo en la lista\n",
    "    accuracy = accuracy_score(y_test, y_pred)\n",
    "    accuracy_scores.append(accuracy)\n",
    "\n",
    "# Calcular la precisión promedio sobre todas las repeticiones\n",
    "average_accuracy = np.mean(accuracy_scores)\n",
    "print(\"Precisión promedio:\", average_accuracy)"
   ]
  },
  {
   "cell_type": "markdown",
   "id": "5201b5e4",
   "metadata": {},
   "source": [
    "Parece ser que nuestro modelo no está sobreajustado. Ya tenemos modelo para llevar a cabo la predicción de las bombas en Tanzania."
   ]
  },
  {
   "cell_type": "markdown",
   "id": "acb09a20",
   "metadata": {},
   "source": [
    "**PREDICCIÓN**"
   ]
  },
  {
   "cell_type": "markdown",
   "id": "f06eec8b",
   "metadata": {},
   "source": [
    "Finalmente llegó la hora de comprobar la calidad predictiva de nuestro modelo. Para ello cargamos los datos que tenemos que predecir. Por otro lado, los tratamos exactamemte igual que hicimos con el preprocesado. Es importante que nuestro modelo reciba la información exactamente igual de como ha sido entrenando. Por último, montaremos un dataset con las predicciones y lo guardaremos en un archivo csv listo para validar en la web del concurso. "
   ]
  },
  {
   "cell_type": "code",
   "execution_count": 124,
   "id": "13750fda",
   "metadata": {},
   "outputs": [],
   "source": [
    "prediccion=pd.read_csv(\"data_predecir.csv\")"
   ]
  },
  {
   "cell_type": "code",
   "execution_count": 125,
   "id": "d242cde9",
   "metadata": {},
   "outputs": [],
   "source": [
    "#se borran todas las variables innecesarias\n",
    "data_prediccion=prediccion.drop([\"id\", \"scheme_name\",\"num_private\",\n",
    "                \"quantity_group\",\"payment_type\", \"management\", \"source_type\", \"waterpoint_type\",\n",
    "                \"extraction_type\", \"extraction_type_group\",\n",
    "                \"ward\",\"lga\",\"subvillage\",\"region\", \"district_code\", \"wpt_name\"], axis=1)"
   ]
  },
  {
   "cell_type": "code",
   "execution_count": 126,
   "id": "2594750e",
   "metadata": {},
   "outputs": [
    {
     "data": {
      "text/plain": [
       "funder\n",
       "Government Of Tanzania    2215\n",
       "Danida                     793\n",
       "Hesawa                     580\n",
       "World Bank                 352\n",
       "Kkkt                       336\n",
       "                          ... \n",
       "Craelius                     1\n",
       "Tanroad                      1\n",
       "Ndanda Missions              1\n",
       "Wards                        1\n",
       "Livin                        1\n",
       "Name: count, Length: 979, dtype: int64"
      ]
     },
     "execution_count": 126,
     "metadata": {},
     "output_type": "execute_result"
    }
   ],
   "source": [
    "data_prediccion.funder.value_counts()"
   ]
  },
  {
   "cell_type": "markdown",
   "id": "a80b07cd",
   "metadata": {},
   "source": [
    "Se le aplican a continuación todas las transformaciones que aplicamos al preprocesado, para asegurarnos que el modelo funciona de forma adecauada:"
   ]
  },
  {
   "cell_type": "code",
   "execution_count": 127,
   "id": "e88d8428",
   "metadata": {},
   "outputs": [],
   "source": [
    "moda = data_prediccion[\"funder\"].mode()[0]\n",
    "data_prediccion[\"funder\"] = data_prediccion[\"funder\"].fillna(moda)\n",
    "data_prediccion[\"funder\"] = data_prediccion[\"funder\"].apply(lambda x: reduc_funder(x))\n",
    "moda = data_prediccion[\"installer\"].mode()[0]\n",
    "data_prediccion[\"installer\"] = data_prediccion[\"installer\"].fillna(moda)\n",
    "data_prediccion[\"installer\"] = data_prediccion[\"installer\"].apply(lambda x: reduc_installer(x))"
   ]
  },
  {
   "cell_type": "code",
   "execution_count": 128,
   "id": "e9ef6764",
   "metadata": {},
   "outputs": [],
   "source": [
    "mean_construction_year = data_prediccion['construction_year'].mean()\n",
    "data_prediccion['construction_year'] = data_prediccion['construction_year'].replace(0, mean_construction_year)"
   ]
  },
  {
   "cell_type": "code",
   "execution_count": 129,
   "id": "24632c48",
   "metadata": {},
   "outputs": [],
   "source": [
    "mean_latitude_year = data_prediccion['latitude'].mean()\n",
    "data_prediccion['latitude'] = data_prediccion['latitude'].replace(0, mean_latitude_year)"
   ]
  },
  {
   "cell_type": "code",
   "execution_count": 130,
   "id": "16a866f2",
   "metadata": {},
   "outputs": [],
   "source": [
    "mean_longitude_year = data_prediccion['longitude'].mean()\n",
    "data_prediccion['longitude'] = data_prediccion['longitude'].replace(0, mean_longitude_year)"
   ]
  },
  {
   "cell_type": "code",
   "execution_count": 131,
   "id": "0812a379",
   "metadata": {},
   "outputs": [],
   "source": [
    "mean_population_year = data_prediccion['population'].mean()\n",
    "data_prediccion['population'] = data_prediccion['population'].replace(0, mean_population_year)"
   ]
  },
  {
   "cell_type": "code",
   "execution_count": 132,
   "id": "2f40e72e",
   "metadata": {},
   "outputs": [],
   "source": [
    "mean_region = data_prediccion['region_code'].mean()\n",
    "data_prediccion['region_code'] = data_prediccion['region_code'].replace(0, mean_region)"
   ]
  },
  {
   "cell_type": "code",
   "execution_count": 133,
   "id": "72ce87bf",
   "metadata": {},
   "outputs": [],
   "source": [
    "mean_amount = data_prediccion['amount_tsh'].median()\n",
    "data_prediccion['amount_tsh'] = data_prediccion['amount_tsh'].replace(0, mean_amount)"
   ]
  },
  {
   "cell_type": "code",
   "execution_count": 134,
   "id": "786f6f30",
   "metadata": {},
   "outputs": [],
   "source": [
    "mean_amount = data_prediccion['gps_height'].mean()\n",
    "data_prediccion['gps_height'] = data_prediccion['gps_height'].replace(0, mean_amount)"
   ]
  },
  {
   "cell_type": "code",
   "execution_count": 135,
   "id": "8c180a8c",
   "metadata": {},
   "outputs": [],
   "source": [
    "data_prediccion[\"date_recorded\"]=pd.to_datetime(data_prediccion[\"date_recorded\"])\n",
    "min_date = data_prediccion['date_recorded'].min()\n",
    "data_prediccion['date_recorded_days'] = (data_prediccion['date_recorded'] - min_date).dt.days\n",
    "data_prediccion['month_recorded'] = data_prediccion['date_recorded'].dt.month\n",
    "data_prediccion['year_recorded'] = data_prediccion['date_recorded'].dt.year\n",
    "data_prediccion=data_prediccion.drop(\"date_recorded\", axis=1)\n",
    "data_prediccion[\"duration\"]=data_prediccion['year_recorded']-data_prediccion[\"construction_year\"]"
   ]
  },
  {
   "cell_type": "code",
   "execution_count": 136,
   "id": "68db4621",
   "metadata": {},
   "outputs": [],
   "source": [
    "categoricas_binarias=[\"permit\",\"public_meeting\"]\n",
    "for j in categoricas_binarias:\n",
    "    data_prediccion[j] = [0 if x == True else 1 for x in data_prediccion[j]]"
   ]
  },
  {
   "cell_type": "code",
   "execution_count": 137,
   "id": "477f7cc9",
   "metadata": {},
   "outputs": [
    {
     "name": "stdout",
     "output_type": "stream",
     "text": [
      "<class 'pandas.core.frame.DataFrame'>\n",
      "RangeIndex: 14850 entries, 0 to 14849\n",
      "Data columns (total 27 columns):\n",
      " #   Column                 Non-Null Count  Dtype  \n",
      "---  ------                 --------------  -----  \n",
      " 0   amount_tsh             14850 non-null  float64\n",
      " 1   funder                 14850 non-null  object \n",
      " 2   gps_height             14850 non-null  float64\n",
      " 3   installer              14850 non-null  object \n",
      " 4   longitude              14850 non-null  float64\n",
      " 5   latitude               14850 non-null  float64\n",
      " 6   basin                  14850 non-null  object \n",
      " 7   region_code            14850 non-null  int64  \n",
      " 8   population             14850 non-null  float64\n",
      " 9   public_meeting         14850 non-null  int64  \n",
      " 10  recorded_by            14850 non-null  object \n",
      " 11  scheme_management      13881 non-null  object \n",
      " 12  permit                 14850 non-null  int64  \n",
      " 13  construction_year      14850 non-null  float64\n",
      " 14  extraction_type_class  14850 non-null  object \n",
      " 15  management_group       14850 non-null  object \n",
      " 16  payment                14850 non-null  object \n",
      " 17  water_quality          14850 non-null  object \n",
      " 18  quality_group          14850 non-null  object \n",
      " 19  quantity               14850 non-null  object \n",
      " 20  source                 14850 non-null  object \n",
      " 21  source_class           14850 non-null  object \n",
      " 22  waterpoint_type_group  14850 non-null  object \n",
      " 23  date_recorded_days     14850 non-null  int64  \n",
      " 24  month_recorded         14850 non-null  int32  \n",
      " 25  year_recorded          14850 non-null  int32  \n",
      " 26  duration               14850 non-null  float64\n",
      "dtypes: float64(7), int32(2), int64(4), object(14)\n",
      "memory usage: 2.9+ MB\n"
     ]
    }
   ],
   "source": [
    "data_prediccion.info()"
   ]
  },
  {
   "cell_type": "code",
   "execution_count": 138,
   "id": "9c25881e",
   "metadata": {},
   "outputs": [],
   "source": [
    "moda = data_prediccion[\"scheme_management\"].mode()[0]\n",
    "data_prediccion[\"scheme_management\"] = data_prediccion[\"scheme_management\"].fillna(moda)\n",
    "moda = data[\"public_meeting\"].mode()[0]\n",
    "data_prediccion[\"public_meeting\"] = data_prediccion[\"public_meeting\"].fillna(moda)\n",
    "moda = data_prediccion[\"public_meeting\"].mode()[0]\n",
    "data_prediccion[\"public_meeting\"] = data_prediccion[\"public_meeting\"].fillna(moda)\n",
    "\n",
    "moda = data_prediccion[data_prediccion[\"quantity\"] != \"unknown\"][\"quantity\"].mode()[0]\n",
    "data_prediccion[\"quantity\"] = data_prediccion[\"quantity\"].fillna(moda)\n",
    "\n",
    "moda = data_prediccion[data_prediccion[\"source\"] != \"unknown\"][\"source\"].mode()[0]\n",
    "data_prediccion[\"source\"] = data_prediccion[\"source\"].fillna(moda)"
   ]
  },
  {
   "cell_type": "code",
   "execution_count": 139,
   "id": "79cf1f27",
   "metadata": {},
   "outputs": [
    {
     "name": "stdout",
     "output_type": "stream",
     "text": [
      "<class 'pandas.core.frame.DataFrame'>\n",
      "RangeIndex: 14850 entries, 0 to 14849\n",
      "Data columns (total 27 columns):\n",
      " #   Column                 Non-Null Count  Dtype  \n",
      "---  ------                 --------------  -----  \n",
      " 0   amount_tsh             14850 non-null  float64\n",
      " 1   funder                 14850 non-null  object \n",
      " 2   gps_height             14850 non-null  float64\n",
      " 3   installer              14850 non-null  object \n",
      " 4   longitude              14850 non-null  float64\n",
      " 5   latitude               14850 non-null  float64\n",
      " 6   basin                  14850 non-null  object \n",
      " 7   region_code            14850 non-null  int64  \n",
      " 8   population             14850 non-null  float64\n",
      " 9   public_meeting         14850 non-null  int64  \n",
      " 10  recorded_by            14850 non-null  object \n",
      " 11  scheme_management      14850 non-null  object \n",
      " 12  permit                 14850 non-null  int64  \n",
      " 13  construction_year      14850 non-null  float64\n",
      " 14  extraction_type_class  14850 non-null  object \n",
      " 15  management_group       14850 non-null  object \n",
      " 16  payment                14850 non-null  object \n",
      " 17  water_quality          14850 non-null  object \n",
      " 18  quality_group          14850 non-null  object \n",
      " 19  quantity               14850 non-null  object \n",
      " 20  source                 14850 non-null  object \n",
      " 21  source_class           14850 non-null  object \n",
      " 22  waterpoint_type_group  14850 non-null  object \n",
      " 23  date_recorded_days     14850 non-null  int64  \n",
      " 24  month_recorded         14850 non-null  int32  \n",
      " 25  year_recorded          14850 non-null  int32  \n",
      " 26  duration               14850 non-null  float64\n",
      "dtypes: float64(7), int32(2), int64(4), object(14)\n",
      "memory usage: 2.9+ MB\n"
     ]
    }
   ],
   "source": [
    "data_prediccion.info()"
   ]
  },
  {
   "cell_type": "code",
   "execution_count": 140,
   "id": "32a65df5",
   "metadata": {},
   "outputs": [],
   "source": [
    "X=pd.get_dummies(data_prediccion)"
   ]
  },
  {
   "cell_type": "code",
   "execution_count": 141,
   "id": "37ebc1ed",
   "metadata": {},
   "outputs": [
    {
     "data": {
      "text/html": [
       "<div>\n",
       "<style scoped>\n",
       "    .dataframe tbody tr th:only-of-type {\n",
       "        vertical-align: middle;\n",
       "    }\n",
       "\n",
       "    .dataframe tbody tr th {\n",
       "        vertical-align: top;\n",
       "    }\n",
       "\n",
       "    .dataframe thead th {\n",
       "        text-align: right;\n",
       "    }\n",
       "</style>\n",
       "<table border=\"1\" class=\"dataframe\">\n",
       "  <thead>\n",
       "    <tr style=\"text-align: right;\">\n",
       "      <th></th>\n",
       "      <th>amount_tsh</th>\n",
       "      <th>gps_height</th>\n",
       "      <th>longitude</th>\n",
       "      <th>latitude</th>\n",
       "      <th>region_code</th>\n",
       "      <th>population</th>\n",
       "      <th>public_meeting</th>\n",
       "      <th>permit</th>\n",
       "      <th>construction_year</th>\n",
       "      <th>date_recorded_days</th>\n",
       "      <th>...</th>\n",
       "      <th>source_unknown</th>\n",
       "      <th>source_class_groundwater</th>\n",
       "      <th>source_class_surface</th>\n",
       "      <th>source_class_unknown</th>\n",
       "      <th>waterpoint_type_group_cattle trough</th>\n",
       "      <th>waterpoint_type_group_communal standpipe</th>\n",
       "      <th>waterpoint_type_group_dam</th>\n",
       "      <th>waterpoint_type_group_hand pump</th>\n",
       "      <th>waterpoint_type_group_improved spring</th>\n",
       "      <th>waterpoint_type_group_other</th>\n",
       "    </tr>\n",
       "  </thead>\n",
       "  <tbody>\n",
       "    <tr>\n",
       "      <th>0</th>\n",
       "      <td>0.0</td>\n",
       "      <td>1996.000000</td>\n",
       "      <td>35.290799</td>\n",
       "      <td>-4.059696</td>\n",
       "      <td>21</td>\n",
       "      <td>321.0</td>\n",
       "      <td>0</td>\n",
       "      <td>0</td>\n",
       "      <td>2012.0</td>\n",
       "      <td>4333</td>\n",
       "      <td>...</td>\n",
       "      <td>False</td>\n",
       "      <td>False</td>\n",
       "      <td>True</td>\n",
       "      <td>False</td>\n",
       "      <td>False</td>\n",
       "      <td>False</td>\n",
       "      <td>False</td>\n",
       "      <td>False</td>\n",
       "      <td>False</td>\n",
       "      <td>True</td>\n",
       "    </tr>\n",
       "    <tr>\n",
       "      <th>1</th>\n",
       "      <td>0.0</td>\n",
       "      <td>1569.000000</td>\n",
       "      <td>36.656709</td>\n",
       "      <td>-3.309214</td>\n",
       "      <td>2</td>\n",
       "      <td>300.0</td>\n",
       "      <td>0</td>\n",
       "      <td>0</td>\n",
       "      <td>2000.0</td>\n",
       "      <td>4333</td>\n",
       "      <td>...</td>\n",
       "      <td>False</td>\n",
       "      <td>True</td>\n",
       "      <td>False</td>\n",
       "      <td>False</td>\n",
       "      <td>False</td>\n",
       "      <td>True</td>\n",
       "      <td>False</td>\n",
       "      <td>False</td>\n",
       "      <td>False</td>\n",
       "      <td>False</td>\n",
       "    </tr>\n",
       "    <tr>\n",
       "      <th>2</th>\n",
       "      <td>0.0</td>\n",
       "      <td>1567.000000</td>\n",
       "      <td>34.767863</td>\n",
       "      <td>-5.004344</td>\n",
       "      <td>13</td>\n",
       "      <td>500.0</td>\n",
       "      <td>0</td>\n",
       "      <td>1</td>\n",
       "      <td>2010.0</td>\n",
       "      <td>4330</td>\n",
       "      <td>...</td>\n",
       "      <td>False</td>\n",
       "      <td>False</td>\n",
       "      <td>True</td>\n",
       "      <td>False</td>\n",
       "      <td>False</td>\n",
       "      <td>False</td>\n",
       "      <td>False</td>\n",
       "      <td>False</td>\n",
       "      <td>False</td>\n",
       "      <td>True</td>\n",
       "    </tr>\n",
       "    <tr>\n",
       "      <th>3</th>\n",
       "      <td>0.0</td>\n",
       "      <td>267.000000</td>\n",
       "      <td>38.058046</td>\n",
       "      <td>-9.418672</td>\n",
       "      <td>80</td>\n",
       "      <td>250.0</td>\n",
       "      <td>1</td>\n",
       "      <td>0</td>\n",
       "      <td>1987.0</td>\n",
       "      <td>4320</td>\n",
       "      <td>...</td>\n",
       "      <td>False</td>\n",
       "      <td>True</td>\n",
       "      <td>False</td>\n",
       "      <td>False</td>\n",
       "      <td>False</td>\n",
       "      <td>False</td>\n",
       "      <td>False</td>\n",
       "      <td>False</td>\n",
       "      <td>False</td>\n",
       "      <td>True</td>\n",
       "    </tr>\n",
       "    <tr>\n",
       "      <th>4</th>\n",
       "      <td>500.0</td>\n",
       "      <td>1260.000000</td>\n",
       "      <td>35.006123</td>\n",
       "      <td>-10.950412</td>\n",
       "      <td>10</td>\n",
       "      <td>60.0</td>\n",
       "      <td>1</td>\n",
       "      <td>0</td>\n",
       "      <td>2000.0</td>\n",
       "      <td>4384</td>\n",
       "      <td>...</td>\n",
       "      <td>False</td>\n",
       "      <td>True</td>\n",
       "      <td>False</td>\n",
       "      <td>False</td>\n",
       "      <td>False</td>\n",
       "      <td>True</td>\n",
       "      <td>False</td>\n",
       "      <td>False</td>\n",
       "      <td>False</td>\n",
       "      <td>False</td>\n",
       "    </tr>\n",
       "    <tr>\n",
       "      <th>...</th>\n",
       "      <td>...</td>\n",
       "      <td>...</td>\n",
       "      <td>...</td>\n",
       "      <td>...</td>\n",
       "      <td>...</td>\n",
       "      <td>...</td>\n",
       "      <td>...</td>\n",
       "      <td>...</td>\n",
       "      <td>...</td>\n",
       "      <td>...</td>\n",
       "      <td>...</td>\n",
       "      <td>...</td>\n",
       "      <td>...</td>\n",
       "      <td>...</td>\n",
       "      <td>...</td>\n",
       "      <td>...</td>\n",
       "      <td>...</td>\n",
       "      <td>...</td>\n",
       "      <td>...</td>\n",
       "      <td>...</td>\n",
       "      <td>...</td>\n",
       "    </tr>\n",
       "    <tr>\n",
       "      <th>14845</th>\n",
       "      <td>0.0</td>\n",
       "      <td>34.000000</td>\n",
       "      <td>38.852669</td>\n",
       "      <td>-6.582841</td>\n",
       "      <td>6</td>\n",
       "      <td>20.0</td>\n",
       "      <td>0</td>\n",
       "      <td>0</td>\n",
       "      <td>1988.0</td>\n",
       "      <td>3622</td>\n",
       "      <td>...</td>\n",
       "      <td>False</td>\n",
       "      <td>False</td>\n",
       "      <td>True</td>\n",
       "      <td>False</td>\n",
       "      <td>False</td>\n",
       "      <td>True</td>\n",
       "      <td>False</td>\n",
       "      <td>False</td>\n",
       "      <td>False</td>\n",
       "      <td>False</td>\n",
       "    </tr>\n",
       "    <tr>\n",
       "      <th>14846</th>\n",
       "      <td>1000.0</td>\n",
       "      <td>655.147609</td>\n",
       "      <td>37.451633</td>\n",
       "      <td>-5.350428</td>\n",
       "      <td>4</td>\n",
       "      <td>2960.0</td>\n",
       "      <td>0</td>\n",
       "      <td>1</td>\n",
       "      <td>1994.0</td>\n",
       "      <td>3647</td>\n",
       "      <td>...</td>\n",
       "      <td>False</td>\n",
       "      <td>True</td>\n",
       "      <td>False</td>\n",
       "      <td>False</td>\n",
       "      <td>False</td>\n",
       "      <td>False</td>\n",
       "      <td>False</td>\n",
       "      <td>True</td>\n",
       "      <td>False</td>\n",
       "      <td>False</td>\n",
       "    </tr>\n",
       "    <tr>\n",
       "      <th>14847</th>\n",
       "      <td>0.0</td>\n",
       "      <td>1476.000000</td>\n",
       "      <td>34.739804</td>\n",
       "      <td>-4.585587</td>\n",
       "      <td>13</td>\n",
       "      <td>200.0</td>\n",
       "      <td>0</td>\n",
       "      <td>1</td>\n",
       "      <td>2010.0</td>\n",
       "      <td>4361</td>\n",
       "      <td>...</td>\n",
       "      <td>False</td>\n",
       "      <td>False</td>\n",
       "      <td>True</td>\n",
       "      <td>False</td>\n",
       "      <td>False</td>\n",
       "      <td>True</td>\n",
       "      <td>False</td>\n",
       "      <td>False</td>\n",
       "      <td>False</td>\n",
       "      <td>False</td>\n",
       "    </tr>\n",
       "    <tr>\n",
       "      <th>14848</th>\n",
       "      <td>0.0</td>\n",
       "      <td>998.000000</td>\n",
       "      <td>35.432732</td>\n",
       "      <td>-10.584159</td>\n",
       "      <td>10</td>\n",
       "      <td>150.0</td>\n",
       "      <td>0</td>\n",
       "      <td>0</td>\n",
       "      <td>2009.0</td>\n",
       "      <td>4347</td>\n",
       "      <td>...</td>\n",
       "      <td>False</td>\n",
       "      <td>False</td>\n",
       "      <td>True</td>\n",
       "      <td>False</td>\n",
       "      <td>False</td>\n",
       "      <td>True</td>\n",
       "      <td>False</td>\n",
       "      <td>False</td>\n",
       "      <td>False</td>\n",
       "      <td>False</td>\n",
       "    </tr>\n",
       "    <tr>\n",
       "      <th>14849</th>\n",
       "      <td>0.0</td>\n",
       "      <td>481.000000</td>\n",
       "      <td>34.765054</td>\n",
       "      <td>-11.226012</td>\n",
       "      <td>10</td>\n",
       "      <td>40.0</td>\n",
       "      <td>0</td>\n",
       "      <td>0</td>\n",
       "      <td>2008.0</td>\n",
       "      <td>4342</td>\n",
       "      <td>...</td>\n",
       "      <td>False</td>\n",
       "      <td>True</td>\n",
       "      <td>False</td>\n",
       "      <td>False</td>\n",
       "      <td>False</td>\n",
       "      <td>True</td>\n",
       "      <td>False</td>\n",
       "      <td>False</td>\n",
       "      <td>False</td>\n",
       "      <td>False</td>\n",
       "    </tr>\n",
       "  </tbody>\n",
       "</table>\n",
       "<p>14850 rows × 102 columns</p>\n",
       "</div>"
      ],
      "text/plain": [
       "       amount_tsh   gps_height  longitude   latitude  region_code  population  \\\n",
       "0             0.0  1996.000000  35.290799  -4.059696           21       321.0   \n",
       "1             0.0  1569.000000  36.656709  -3.309214            2       300.0   \n",
       "2             0.0  1567.000000  34.767863  -5.004344           13       500.0   \n",
       "3             0.0   267.000000  38.058046  -9.418672           80       250.0   \n",
       "4           500.0  1260.000000  35.006123 -10.950412           10        60.0   \n",
       "...           ...          ...        ...        ...          ...         ...   \n",
       "14845         0.0    34.000000  38.852669  -6.582841            6        20.0   \n",
       "14846      1000.0   655.147609  37.451633  -5.350428            4      2960.0   \n",
       "14847         0.0  1476.000000  34.739804  -4.585587           13       200.0   \n",
       "14848         0.0   998.000000  35.432732 -10.584159           10       150.0   \n",
       "14849         0.0   481.000000  34.765054 -11.226012           10        40.0   \n",
       "\n",
       "       public_meeting  permit  construction_year  date_recorded_days  ...  \\\n",
       "0                   0       0             2012.0                4333  ...   \n",
       "1                   0       0             2000.0                4333  ...   \n",
       "2                   0       1             2010.0                4330  ...   \n",
       "3                   1       0             1987.0                4320  ...   \n",
       "4                   1       0             2000.0                4384  ...   \n",
       "...               ...     ...                ...                 ...  ...   \n",
       "14845               0       0             1988.0                3622  ...   \n",
       "14846               0       1             1994.0                3647  ...   \n",
       "14847               0       1             2010.0                4361  ...   \n",
       "14848               0       0             2009.0                4347  ...   \n",
       "14849               0       0             2008.0                4342  ...   \n",
       "\n",
       "       source_unknown  source_class_groundwater  source_class_surface  \\\n",
       "0               False                     False                  True   \n",
       "1               False                      True                 False   \n",
       "2               False                     False                  True   \n",
       "3               False                      True                 False   \n",
       "4               False                      True                 False   \n",
       "...               ...                       ...                   ...   \n",
       "14845           False                     False                  True   \n",
       "14846           False                      True                 False   \n",
       "14847           False                     False                  True   \n",
       "14848           False                     False                  True   \n",
       "14849           False                      True                 False   \n",
       "\n",
       "       source_class_unknown  waterpoint_type_group_cattle trough  \\\n",
       "0                     False                                False   \n",
       "1                     False                                False   \n",
       "2                     False                                False   \n",
       "3                     False                                False   \n",
       "4                     False                                False   \n",
       "...                     ...                                  ...   \n",
       "14845                 False                                False   \n",
       "14846                 False                                False   \n",
       "14847                 False                                False   \n",
       "14848                 False                                False   \n",
       "14849                 False                                False   \n",
       "\n",
       "       waterpoint_type_group_communal standpipe  waterpoint_type_group_dam  \\\n",
       "0                                         False                      False   \n",
       "1                                          True                      False   \n",
       "2                                         False                      False   \n",
       "3                                         False                      False   \n",
       "4                                          True                      False   \n",
       "...                                         ...                        ...   \n",
       "14845                                      True                      False   \n",
       "14846                                     False                      False   \n",
       "14847                                      True                      False   \n",
       "14848                                      True                      False   \n",
       "14849                                      True                      False   \n",
       "\n",
       "       waterpoint_type_group_hand pump  waterpoint_type_group_improved spring  \\\n",
       "0                                False                                  False   \n",
       "1                                False                                  False   \n",
       "2                                False                                  False   \n",
       "3                                False                                  False   \n",
       "4                                False                                  False   \n",
       "...                                ...                                    ...   \n",
       "14845                            False                                  False   \n",
       "14846                             True                                  False   \n",
       "14847                            False                                  False   \n",
       "14848                            False                                  False   \n",
       "14849                            False                                  False   \n",
       "\n",
       "       waterpoint_type_group_other  \n",
       "0                             True  \n",
       "1                            False  \n",
       "2                             True  \n",
       "3                             True  \n",
       "4                            False  \n",
       "...                            ...  \n",
       "14845                        False  \n",
       "14846                        False  \n",
       "14847                        False  \n",
       "14848                        False  \n",
       "14849                        False  \n",
       "\n",
       "[14850 rows x 102 columns]"
      ]
     },
     "execution_count": 141,
     "metadata": {},
     "output_type": "execute_result"
    }
   ],
   "source": [
    "X"
   ]
  },
  {
   "cell_type": "code",
   "execution_count": 142,
   "id": "a0c21fdd",
   "metadata": {},
   "outputs": [],
   "source": [
    "Y_PRED=model3_mejorado.predict(X)"
   ]
  },
  {
   "cell_type": "code",
   "execution_count": 143,
   "id": "418b6839",
   "metadata": {},
   "outputs": [
    {
     "data": {
      "text/plain": [
       "0        1\n",
       "1        1\n",
       "2        1\n",
       "3        0\n",
       "4        1\n",
       "        ..\n",
       "14845    0\n",
       "14846    1\n",
       "14847    1\n",
       "14848    1\n",
       "14849    0\n",
       "Name: status_group, Length: 14850, dtype: int64"
      ]
     },
     "execution_count": 143,
     "metadata": {},
     "output_type": "execute_result"
    }
   ],
   "source": [
    "Y_PRED=pd.Series(Y_PRED, name=\"status_group\")\n",
    "Y_PRED"
   ]
  },
  {
   "cell_type": "code",
   "execution_count": 144,
   "id": "916c4a36",
   "metadata": {},
   "outputs": [],
   "source": [
    "def y_transform(x):\n",
    "    if x==0:\n",
    "        return \"non functional\"\n",
    "    if x==1:\n",
    "        return \"functional\"\n",
    "    else:\n",
    "        return 'functional needs repair'\n",
    "status_group= Y_PRED.apply(lambda x: y_transform(x))"
   ]
  },
  {
   "cell_type": "code",
   "execution_count": 145,
   "id": "6706d8bf",
   "metadata": {},
   "outputs": [],
   "source": [
    "Archivo = pd.concat([prediccion['id'], status_group], axis=1)"
   ]
  },
  {
   "cell_type": "code",
   "execution_count": 146,
   "id": "c1699ae2",
   "metadata": {},
   "outputs": [],
   "source": [
    "Archivo.to_csv(\"Predicciones15.csv\", index=False)"
   ]
  },
  {
   "cell_type": "markdown",
   "id": "53697c7e",
   "metadata": {},
   "source": [
    "Tras subirlo se ha obtenido un accuraccy de 0.8059. \n",
    "Para conseguir ese score se han empleado un total del 15  intentos en total"
   ]
  },
  {
   "cell_type": "code",
   "execution_count": null,
   "id": "b3e48661",
   "metadata": {},
   "outputs": [],
   "source": []
  }
 ],
 "metadata": {
  "kernelspec": {
   "display_name": "Python 3 (ipykernel)",
   "language": "python",
   "name": "python3"
  },
  "language_info": {
   "codemirror_mode": {
    "name": "ipython",
    "version": 3
   },
   "file_extension": ".py",
   "mimetype": "text/x-python",
   "name": "python",
   "nbconvert_exporter": "python",
   "pygments_lexer": "ipython3",
   "version": "3.10.13"
  }
 },
 "nbformat": 4,
 "nbformat_minor": 5
}
